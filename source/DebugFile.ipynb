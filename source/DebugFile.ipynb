{
 "cells": [
  {
   "cell_type": "markdown",
   "id": "f25cbb81-0657-49b3-ae57-219fe1defd46",
   "metadata": {},
   "source": [
    "# Файл для отладки"
   ]
  },
  {
   "cell_type": "markdown",
   "id": "e5d0abf8-c073-42ff-a0fc-b7b367efab87",
   "metadata": {},
   "source": [
    "![image](../pic/pic1.jpg)\n",
    "![image](../pic/pic2.jpg)"
   ]
  },
  {
   "cell_type": "code",
   "execution_count": 1,
   "id": "5c4e01a9-9824-4982-a11b-4eb0ed8412a7",
   "metadata": {},
   "outputs": [],
   "source": [
    "Generate_Network_t0 <- function(size = 40, sparsity = 0.7) {\n",
    "\tnetwork <- matrix(0, nrow=size, ncol=size)\n",
    "  \n",
    "\tfor (i in 1:size) {\n",
    "\t\tfor (j in 1:size) {\n",
    "\t\t\tif (runif(1) > sparsity) {\n",
    "\t\t\t\tnetwork[i, j] <- 1\n",
    "\t\t\t}\n",
    "\t\t}\n",
    "\t}\n",
    "  \n",
    "\treturn(network)\n",
    "}\n",
    "\n",
    "\n",
    "Network_function_1 <- function(i, Network) { # outdegree (density)\n",
    "\tnet <- sum(Network[i, ])\n",
    "\treturn(net)\n",
    "}\n",
    "\n",
    "\n",
    "Network_function_2 <- function(i, Network) { # recip\n",
    "\tnet <- 0\n",
    "    for(j in 1:length(Network[1,])){\n",
    "        if(i != j){\n",
    "            net <- net + Network[i,j]*Network[j,i]\n",
    "        }\n",
    "    }\n",
    "\treturn(net)\n",
    "}\n",
    "\n",
    "Network_function_3 <- function(i, Network) { # transitive triplets (transTrip)\n",
    "\tnet <- 0\n",
    "\tfor (j in 1:length(Network[i, ])) {\n",
    "\t\tfor(h in 1:length(Network[, j])){\n",
    "\t\t\tif(i!=j & j!=h & i!=h){\n",
    "                \n",
    "\t\t\t\tnet <- net + (Network[i,j] * Network[i,h] * Network[h,j]) \n",
    "\t\t\t}\n",
    "\t\t}\n",
    "\t}\n",
    "\treturn(net)\n",
    "}\n",
    "\n",
    "Generate_Possible_Ministep_Matrix_vector <- function(i, Network) {\n",
    "\tNetworks <- list()\n",
    "  \n",
    "\tfor (j in 1:length(Network[i, ])) {\n",
    "\t\tif (i != j) {\n",
    "\t\t\tTMP_Net <- Network\n",
    "            if ( TMP_Net[i, j] == 0){ TMP_Net[i, j] <- 1 }\n",
    "\t\t\telse if ( TMP_Net[i, j] == 1){ TMP_Net[i, j] <- 0 }\n",
    "\t\t\tNetworks[[j]] <- TMP_Net    \n",
    "\t\t}\n",
    "        else{\n",
    "            Networks[[j]] <- Network\n",
    "        }\n",
    "        \n",
    "\t}\n",
    "    # Networks[[length(Network[i, ])]] <- Network\n",
    "\treturn(Networks)\n",
    "}\n",
    "\n",
    "# Ministep <- function(Network, i, j) {\n",
    "# \tNetwork[i, j] <- 1\n",
    "# \treturn(Network)\n",
    "# }\n",
    "\n",
    "\n",
    "Distribution_actors <- function(i, Network, beta, Possible_Ministep_Matrix_vector) {\n",
    "\tUtil <- numeric(length(Network[i, ]))\n",
    "\ttotal_util <- 0\n",
    "  \n",
    "\tfor (h in 1:length(Network[i, ])) {\n",
    "\t\ttotal_util <- total_util + exp(Utility(Network, beta, i, h, Possible_Ministep_Matrix_vector))\n",
    "\t}\n",
    "\n",
    "\n",
    "    \n",
    "\tUtil_j <- numeric(length(Network[i, ]))\n",
    "\n",
    "\tfor (j in 1:length(Network[i, ])) {\n",
    "\t\t\tUtil_j[j] <- exp(Utility(Network, beta, i, j, Possible_Ministep_Matrix_vector))\n",
    "\t\t\tUtil[j] <- Util_j[j] / total_util\n",
    "\t}\n",
    "    \n",
    "\treturn(Util)\n",
    "}\n",
    "\n",
    "Utility <- function(Network, beta, i, j, Possible_Ministep_Matrix_vector) {\n",
    "    NetIJ <- Possible_Ministep_Matrix_vector\n",
    "\tutil <- (beta[1] * Network_function_1(i, NetIJ[[j]]))# + (beta[2] * Network_function_3(i, NetIJ[[j]]))\n",
    "\treturn(util)\n",
    "}\n",
    "\n",
    "Simulator <- function(Network0, t = 0, LambdaV, total_Lambda, T, beta) {\n",
    "\tNetwork <- Network0 \n",
    "\twhile (t < T) {\n",
    "\t\tdeltaT <- rexp(1, rate=total_Lambda)\n",
    "\t\t# i <- sample(1:length(Network0[1,]), size=1, prob=(LambdaV / total_Lambda))\n",
    "        i <- sample(1:length(Network0[1,]), size=1)\n",
    "\n",
    "        Possible_Ministep_Matrix_vector <- Generate_Possible_Ministep_Matrix_vector(i, Network)\n",
    "\t\tprob_vector <- 0\n",
    "        \n",
    "\t\tprob_vector <- Distribution_actors(i, Network, beta, Possible_Ministep_Matrix_vector)\n",
    "        \n",
    "\t\tj <- sample(1:length(Network0[i, ]), size=1, prob=prob_vector)\n",
    "\n",
    "\n",
    "\n",
    "        if (j != i ){\n",
    "            if ( Network[i, j] == 0){ Network[i, j] <- 1 }\n",
    "    \t\telse if ( Network[i, j] == 1){ Network[i, j] <- 0 }    \n",
    "        }\n",
    "        \n",
    "\t\tt <- t + deltaT\n",
    "        \n",
    "\n",
    "\t}\n",
    "\treturn(Network)\n",
    "}"
   ]
  },
  {
   "cell_type": "code",
   "execution_count": 2,
   "id": "8af220c0-298c-4d36-8b1d-1c836d06bf8e",
   "metadata": {},
   "outputs": [],
   "source": [
    "size <- 5\n",
    "Network0 <- Generate_Network_t0(size = size, sparsity = .6)\n",
    "LambdaV <- rep(.8, size)\n",
    "total_Lambda <- sum(LambdaV)\n",
    "# beta <- rexp(n = 2)\n",
    "beta <- c(1.5, 1.8)\n",
    "T <- 2.5"
   ]
  },
  {
   "cell_type": "code",
   "execution_count": 3,
   "id": "af0280a0-765a-40de-8b1b-32dab09449b7",
   "metadata": {},
   "outputs": [
    {
     "data": {
      "text/html": [
       "<table class=\"dataframe\">\n",
       "<caption>A matrix: 5 × 5 of type dbl</caption>\n",
       "<tbody>\n",
       "\t<tr><td>0</td><td>0</td><td>0</td><td>0</td><td>0</td></tr>\n",
       "\t<tr><td>0</td><td>1</td><td>1</td><td>0</td><td>1</td></tr>\n",
       "\t<tr><td>0</td><td>0</td><td>1</td><td>1</td><td>1</td></tr>\n",
       "\t<tr><td>0</td><td>0</td><td>0</td><td>1</td><td>0</td></tr>\n",
       "\t<tr><td>1</td><td>0</td><td>0</td><td>0</td><td>1</td></tr>\n",
       "</tbody>\n",
       "</table>\n"
      ],
      "text/latex": [
       "A matrix: 5 × 5 of type dbl\n",
       "\\begin{tabular}{lllll}\n",
       "\t 0 & 0 & 0 & 0 & 0\\\\\n",
       "\t 0 & 1 & 1 & 0 & 1\\\\\n",
       "\t 0 & 0 & 1 & 1 & 1\\\\\n",
       "\t 0 & 0 & 0 & 1 & 0\\\\\n",
       "\t 1 & 0 & 0 & 0 & 1\\\\\n",
       "\\end{tabular}\n"
      ],
      "text/markdown": [
       "\n",
       "A matrix: 5 × 5 of type dbl\n",
       "\n",
       "| 0 | 0 | 0 | 0 | 0 |\n",
       "| 0 | 1 | 1 | 0 | 1 |\n",
       "| 0 | 0 | 1 | 1 | 1 |\n",
       "| 0 | 0 | 0 | 1 | 0 |\n",
       "| 1 | 0 | 0 | 0 | 1 |\n",
       "\n"
      ],
      "text/plain": [
       "     [,1] [,2] [,3] [,4] [,5]\n",
       "[1,] 0    0    0    0    0   \n",
       "[2,] 0    1    1    0    1   \n",
       "[3,] 0    0    1    1    1   \n",
       "[4,] 0    0    0    1    0   \n",
       "[5,] 1    0    0    0    1   "
      ]
     },
     "metadata": {},
     "output_type": "display_data"
    },
    {
     "data": {
      "text/html": [
       "<style>\n",
       ".list-inline {list-style: none; margin:0; padding: 0}\n",
       ".list-inline>li {display: inline-block}\n",
       ".list-inline>li:not(:last-child)::after {content: \"\\00b7\"; padding: 0 .5ex}\n",
       "</style>\n",
       "<ol class=list-inline><li>0.8</li><li>0.8</li><li>0.8</li><li>0.8</li><li>0.8</li></ol>\n"
      ],
      "text/latex": [
       "\\begin{enumerate*}\n",
       "\\item 0.8\n",
       "\\item 0.8\n",
       "\\item 0.8\n",
       "\\item 0.8\n",
       "\\item 0.8\n",
       "\\end{enumerate*}\n"
      ],
      "text/markdown": [
       "1. 0.8\n",
       "2. 0.8\n",
       "3. 0.8\n",
       "4. 0.8\n",
       "5. 0.8\n",
       "\n",
       "\n"
      ],
      "text/plain": [
       "[1] 0.8 0.8 0.8 0.8 0.8"
      ]
     },
     "metadata": {},
     "output_type": "display_data"
    },
    {
     "data": {
      "text/html": [
       "4"
      ],
      "text/latex": [
       "4"
      ],
      "text/markdown": [
       "4"
      ],
      "text/plain": [
       "[1] 4"
      ]
     },
     "metadata": {},
     "output_type": "display_data"
    },
    {
     "data": {
      "text/html": [
       "<style>\n",
       ".list-inline {list-style: none; margin:0; padding: 0}\n",
       ".list-inline>li {display: inline-block}\n",
       ".list-inline>li:not(:last-child)::after {content: \"\\00b7\"; padding: 0 .5ex}\n",
       "</style>\n",
       "<ol class=list-inline><li>1.5</li><li>1.8</li></ol>\n"
      ],
      "text/latex": [
       "\\begin{enumerate*}\n",
       "\\item 1.5\n",
       "\\item 1.8\n",
       "\\end{enumerate*}\n"
      ],
      "text/markdown": [
       "1. 1.5\n",
       "2. 1.8\n",
       "\n",
       "\n"
      ],
      "text/plain": [
       "[1] 1.5 1.8"
      ]
     },
     "metadata": {},
     "output_type": "display_data"
    },
    {
     "data": {
      "text/html": [
       "<style>\n",
       ".list-inline {list-style: none; margin:0; padding: 0}\n",
       ".list-inline>li {display: inline-block}\n",
       ".list-inline>li:not(:last-child)::after {content: \"\\00b7\"; padding: 0 .5ex}\n",
       "</style>\n",
       "<ol class=list-inline><li>0.2</li><li>0.2</li><li>0.2</li><li>0.2</li><li>0.2</li></ol>\n"
      ],
      "text/latex": [
       "\\begin{enumerate*}\n",
       "\\item 0.2\n",
       "\\item 0.2\n",
       "\\item 0.2\n",
       "\\item 0.2\n",
       "\\item 0.2\n",
       "\\end{enumerate*}\n"
      ],
      "text/markdown": [
       "1. 0.2\n",
       "2. 0.2\n",
       "3. 0.2\n",
       "4. 0.2\n",
       "5. 0.2\n",
       "\n",
       "\n"
      ],
      "text/plain": [
       "[1] 0.2 0.2 0.2 0.2 0.2"
      ]
     },
     "metadata": {},
     "output_type": "display_data"
    }
   ],
   "source": [
    "Network0\n",
    "\n",
    "LambdaV\n",
    "\n",
    "total_Lambda\n",
    "\n",
    "beta\n",
    "\n",
    "LambdaV / total_Lambda\n",
    "\n"
   ]
  },
  {
   "cell_type": "markdown",
   "id": "97d586dd-5b5c-4d88-b727-4dc88194f4fe",
   "metadata": {},
   "source": [
    "# Эффекты верно работают"
   ]
  },
  {
   "cell_type": "code",
   "execution_count": 4,
   "id": "9eed5a2d-e05c-482a-a097-80216761b751",
   "metadata": {},
   "outputs": [
    {
     "data": {
      "text/html": [
       "0"
      ],
      "text/latex": [
       "0"
      ],
      "text/markdown": [
       "0"
      ],
      "text/plain": [
       "[1] 0"
      ]
     },
     "metadata": {},
     "output_type": "display_data"
    }
   ],
   "source": [
    "Network_function_2(i = 2 ,Network = Network0)"
   ]
  },
  {
   "cell_type": "code",
   "execution_count": 5,
   "id": "7caca740-bfcd-46f3-bf2f-d1b3d67dcfcf",
   "metadata": {},
   "outputs": [
    {
     "name": "stdout",
     "output_type": "stream",
     "text": [
      "[1] 0\n",
      "[1] 3\n",
      "[1] 3\n",
      "[1] 1\n",
      "[1] 2\n"
     ]
    }
   ],
   "source": [
    "for(i in 1:size){\n",
    "    print(Network_function_1(i = i,Network = Network0))\n",
    "}"
   ]
  },
  {
   "cell_type": "code",
   "execution_count": 6,
   "id": "03cd482d-37b1-496c-8a8b-c518136e76b9",
   "metadata": {},
   "outputs": [
    {
     "name": "stdout",
     "output_type": "stream",
     "text": [
      "[1] 0\n",
      "[1] 0\n",
      "[1] 0\n",
      "[1] 0\n",
      "[1] 0\n"
     ]
    }
   ],
   "source": [
    "for(i in 1:size){\n",
    "    print(Network_function_2(i = i,Network = Network0))\n",
    "}"
   ]
  },
  {
   "cell_type": "code",
   "execution_count": 7,
   "id": "993ecec6-cf72-4b5c-bbd5-c993763bc3e4",
   "metadata": {},
   "outputs": [
    {
     "name": "stdout",
     "output_type": "stream",
     "text": [
      "[1] 0\n",
      "[1] 1\n",
      "[1] 0\n",
      "[1] 0\n",
      "[1] 0\n"
     ]
    }
   ],
   "source": [
    "for(i in 1:size){\n",
    "    print(Network_function_3(i = i,Network = Network0))\n",
    "}"
   ]
  },
  {
   "cell_type": "markdown",
   "id": "5a0b4d9d-21fb-4349-9750-3057c8e8ee4d",
   "metadata": {},
   "source": [
    "# Генерация минишага корректна"
   ]
  },
  {
   "cell_type": "code",
   "execution_count": 8,
   "id": "415d5ecb-2657-4201-8151-e7d98b54b017",
   "metadata": {},
   "outputs": [
    {
     "data": {
      "text/html": [
       "<ol>\n",
       "\t<li><table class=\"dataframe\">\n",
       "<caption>A matrix: 5 × 5 of type dbl</caption>\n",
       "<tbody>\n",
       "\t<tr><td>0</td><td>0</td><td>0</td><td>0</td><td>0</td></tr>\n",
       "\t<tr><td>0</td><td>1</td><td>1</td><td>0</td><td>1</td></tr>\n",
       "\t<tr><td>0</td><td>0</td><td>1</td><td>1</td><td>1</td></tr>\n",
       "\t<tr><td>0</td><td>0</td><td>0</td><td>1</td><td>0</td></tr>\n",
       "\t<tr><td>1</td><td>0</td><td>0</td><td>0</td><td>1</td></tr>\n",
       "</tbody>\n",
       "</table>\n",
       "</li>\n",
       "\t<li><table class=\"dataframe\">\n",
       "<caption>A matrix: 5 × 5 of type dbl</caption>\n",
       "<tbody>\n",
       "\t<tr><td>0</td><td>1</td><td>0</td><td>0</td><td>0</td></tr>\n",
       "\t<tr><td>0</td><td>1</td><td>1</td><td>0</td><td>1</td></tr>\n",
       "\t<tr><td>0</td><td>0</td><td>1</td><td>1</td><td>1</td></tr>\n",
       "\t<tr><td>0</td><td>0</td><td>0</td><td>1</td><td>0</td></tr>\n",
       "\t<tr><td>1</td><td>0</td><td>0</td><td>0</td><td>1</td></tr>\n",
       "</tbody>\n",
       "</table>\n",
       "</li>\n",
       "\t<li><table class=\"dataframe\">\n",
       "<caption>A matrix: 5 × 5 of type dbl</caption>\n",
       "<tbody>\n",
       "\t<tr><td>0</td><td>0</td><td>1</td><td>0</td><td>0</td></tr>\n",
       "\t<tr><td>0</td><td>1</td><td>1</td><td>0</td><td>1</td></tr>\n",
       "\t<tr><td>0</td><td>0</td><td>1</td><td>1</td><td>1</td></tr>\n",
       "\t<tr><td>0</td><td>0</td><td>0</td><td>1</td><td>0</td></tr>\n",
       "\t<tr><td>1</td><td>0</td><td>0</td><td>0</td><td>1</td></tr>\n",
       "</tbody>\n",
       "</table>\n",
       "</li>\n",
       "\t<li><table class=\"dataframe\">\n",
       "<caption>A matrix: 5 × 5 of type dbl</caption>\n",
       "<tbody>\n",
       "\t<tr><td>0</td><td>0</td><td>0</td><td>1</td><td>0</td></tr>\n",
       "\t<tr><td>0</td><td>1</td><td>1</td><td>0</td><td>1</td></tr>\n",
       "\t<tr><td>0</td><td>0</td><td>1</td><td>1</td><td>1</td></tr>\n",
       "\t<tr><td>0</td><td>0</td><td>0</td><td>1</td><td>0</td></tr>\n",
       "\t<tr><td>1</td><td>0</td><td>0</td><td>0</td><td>1</td></tr>\n",
       "</tbody>\n",
       "</table>\n",
       "</li>\n",
       "\t<li><table class=\"dataframe\">\n",
       "<caption>A matrix: 5 × 5 of type dbl</caption>\n",
       "<tbody>\n",
       "\t<tr><td>0</td><td>0</td><td>0</td><td>0</td><td>1</td></tr>\n",
       "\t<tr><td>0</td><td>1</td><td>1</td><td>0</td><td>1</td></tr>\n",
       "\t<tr><td>0</td><td>0</td><td>1</td><td>1</td><td>1</td></tr>\n",
       "\t<tr><td>0</td><td>0</td><td>0</td><td>1</td><td>0</td></tr>\n",
       "\t<tr><td>1</td><td>0</td><td>0</td><td>0</td><td>1</td></tr>\n",
       "</tbody>\n",
       "</table>\n",
       "</li>\n",
       "</ol>\n"
      ],
      "text/latex": [
       "\\begin{enumerate}\n",
       "\\item A matrix: 5 × 5 of type dbl\n",
       "\\begin{tabular}{lllll}\n",
       "\t 0 & 0 & 0 & 0 & 0\\\\\n",
       "\t 0 & 1 & 1 & 0 & 1\\\\\n",
       "\t 0 & 0 & 1 & 1 & 1\\\\\n",
       "\t 0 & 0 & 0 & 1 & 0\\\\\n",
       "\t 1 & 0 & 0 & 0 & 1\\\\\n",
       "\\end{tabular}\n",
       "\n",
       "\\item A matrix: 5 × 5 of type dbl\n",
       "\\begin{tabular}{lllll}\n",
       "\t 0 & 1 & 0 & 0 & 0\\\\\n",
       "\t 0 & 1 & 1 & 0 & 1\\\\\n",
       "\t 0 & 0 & 1 & 1 & 1\\\\\n",
       "\t 0 & 0 & 0 & 1 & 0\\\\\n",
       "\t 1 & 0 & 0 & 0 & 1\\\\\n",
       "\\end{tabular}\n",
       "\n",
       "\\item A matrix: 5 × 5 of type dbl\n",
       "\\begin{tabular}{lllll}\n",
       "\t 0 & 0 & 1 & 0 & 0\\\\\n",
       "\t 0 & 1 & 1 & 0 & 1\\\\\n",
       "\t 0 & 0 & 1 & 1 & 1\\\\\n",
       "\t 0 & 0 & 0 & 1 & 0\\\\\n",
       "\t 1 & 0 & 0 & 0 & 1\\\\\n",
       "\\end{tabular}\n",
       "\n",
       "\\item A matrix: 5 × 5 of type dbl\n",
       "\\begin{tabular}{lllll}\n",
       "\t 0 & 0 & 0 & 1 & 0\\\\\n",
       "\t 0 & 1 & 1 & 0 & 1\\\\\n",
       "\t 0 & 0 & 1 & 1 & 1\\\\\n",
       "\t 0 & 0 & 0 & 1 & 0\\\\\n",
       "\t 1 & 0 & 0 & 0 & 1\\\\\n",
       "\\end{tabular}\n",
       "\n",
       "\\item A matrix: 5 × 5 of type dbl\n",
       "\\begin{tabular}{lllll}\n",
       "\t 0 & 0 & 0 & 0 & 1\\\\\n",
       "\t 0 & 1 & 1 & 0 & 1\\\\\n",
       "\t 0 & 0 & 1 & 1 & 1\\\\\n",
       "\t 0 & 0 & 0 & 1 & 0\\\\\n",
       "\t 1 & 0 & 0 & 0 & 1\\\\\n",
       "\\end{tabular}\n",
       "\n",
       "\\end{enumerate}\n"
      ],
      "text/markdown": [
       "1. \n",
       "A matrix: 5 × 5 of type dbl\n",
       "\n",
       "| 0 | 0 | 0 | 0 | 0 |\n",
       "| 0 | 1 | 1 | 0 | 1 |\n",
       "| 0 | 0 | 1 | 1 | 1 |\n",
       "| 0 | 0 | 0 | 1 | 0 |\n",
       "| 1 | 0 | 0 | 0 | 1 |\n",
       "\n",
       "\n",
       "2. \n",
       "A matrix: 5 × 5 of type dbl\n",
       "\n",
       "| 0 | 1 | 0 | 0 | 0 |\n",
       "| 0 | 1 | 1 | 0 | 1 |\n",
       "| 0 | 0 | 1 | 1 | 1 |\n",
       "| 0 | 0 | 0 | 1 | 0 |\n",
       "| 1 | 0 | 0 | 0 | 1 |\n",
       "\n",
       "\n",
       "3. \n",
       "A matrix: 5 × 5 of type dbl\n",
       "\n",
       "| 0 | 0 | 1 | 0 | 0 |\n",
       "| 0 | 1 | 1 | 0 | 1 |\n",
       "| 0 | 0 | 1 | 1 | 1 |\n",
       "| 0 | 0 | 0 | 1 | 0 |\n",
       "| 1 | 0 | 0 | 0 | 1 |\n",
       "\n",
       "\n",
       "4. \n",
       "A matrix: 5 × 5 of type dbl\n",
       "\n",
       "| 0 | 0 | 0 | 1 | 0 |\n",
       "| 0 | 1 | 1 | 0 | 1 |\n",
       "| 0 | 0 | 1 | 1 | 1 |\n",
       "| 0 | 0 | 0 | 1 | 0 |\n",
       "| 1 | 0 | 0 | 0 | 1 |\n",
       "\n",
       "\n",
       "5. \n",
       "A matrix: 5 × 5 of type dbl\n",
       "\n",
       "| 0 | 0 | 0 | 0 | 1 |\n",
       "| 0 | 1 | 1 | 0 | 1 |\n",
       "| 0 | 0 | 1 | 1 | 1 |\n",
       "| 0 | 0 | 0 | 1 | 0 |\n",
       "| 1 | 0 | 0 | 0 | 1 |\n",
       "\n",
       "\n",
       "\n",
       "\n"
      ],
      "text/plain": [
       "[[1]]\n",
       "     [,1] [,2] [,3] [,4] [,5]\n",
       "[1,]    0    0    0    0    0\n",
       "[2,]    0    1    1    0    1\n",
       "[3,]    0    0    1    1    1\n",
       "[4,]    0    0    0    1    0\n",
       "[5,]    1    0    0    0    1\n",
       "\n",
       "[[2]]\n",
       "     [,1] [,2] [,3] [,4] [,5]\n",
       "[1,]    0    1    0    0    0\n",
       "[2,]    0    1    1    0    1\n",
       "[3,]    0    0    1    1    1\n",
       "[4,]    0    0    0    1    0\n",
       "[5,]    1    0    0    0    1\n",
       "\n",
       "[[3]]\n",
       "     [,1] [,2] [,3] [,4] [,5]\n",
       "[1,]    0    0    1    0    0\n",
       "[2,]    0    1    1    0    1\n",
       "[3,]    0    0    1    1    1\n",
       "[4,]    0    0    0    1    0\n",
       "[5,]    1    0    0    0    1\n",
       "\n",
       "[[4]]\n",
       "     [,1] [,2] [,3] [,4] [,5]\n",
       "[1,]    0    0    0    1    0\n",
       "[2,]    0    1    1    0    1\n",
       "[3,]    0    0    1    1    1\n",
       "[4,]    0    0    0    1    0\n",
       "[5,]    1    0    0    0    1\n",
       "\n",
       "[[5]]\n",
       "     [,1] [,2] [,3] [,4] [,5]\n",
       "[1,]    0    0    0    0    1\n",
       "[2,]    0    1    1    0    1\n",
       "[3,]    0    0    1    1    1\n",
       "[4,]    0    0    0    1    0\n",
       "[5,]    1    0    0    0    1\n"
      ]
     },
     "metadata": {},
     "output_type": "display_data"
    }
   ],
   "source": [
    "Ministeps <- Generate_Possible_Ministep_Matrix_vector(1,Network0)\n",
    "Ministeps"
   ]
  },
  {
   "cell_type": "markdown",
   "id": "fa7e949d-037f-4ee7-9432-45b8ee59fa63",
   "metadata": {},
   "source": [
    "# Полезности корректны"
   ]
  },
  {
   "cell_type": "code",
   "execution_count": 9,
   "id": "c3005f43-c5de-49e3-b7bb-cacefe29c689",
   "metadata": {},
   "outputs": [
    {
     "data": {
      "text/html": [
       "1"
      ],
      "text/latex": [
       "1"
      ],
      "text/markdown": [
       "1"
      ],
      "text/plain": [
       "[1] 1"
      ]
     },
     "metadata": {},
     "output_type": "display_data"
    },
    {
     "data": {
      "text/html": [
       "1.5"
      ],
      "text/latex": [
       "1.5"
      ],
      "text/markdown": [
       "1.5"
      ],
      "text/plain": [
       "[1] 1.5"
      ]
     },
     "metadata": {},
     "output_type": "display_data"
    }
   ],
   "source": [
    "Network_function_1(i = 4,Network = Generate_Possible_Ministep_Matrix_vector(1,Network0)[[3]])\n",
    "Network_function_1(i = 4,Network = Generate_Possible_Ministep_Matrix_vector(1,Network0)[[3]]) * 1.5"
   ]
  },
  {
   "cell_type": "raw",
   "id": "9d82d767-ad4b-4112-8459-ebbf0afc90b9",
   "metadata": {},
   "source": [
    "Utility <- function(Network, beta, i, j, Possible_Ministep_Matrix_vector)"
   ]
  },
  {
   "cell_type": "code",
   "execution_count": 10,
   "id": "23a0b40a-d5e5-4a0d-ba6a-f3f8854e2a3f",
   "metadata": {},
   "outputs": [
    {
     "data": {
      "text/html": [
       "1.5"
      ],
      "text/latex": [
       "1.5"
      ],
      "text/markdown": [
       "1.5"
      ],
      "text/plain": [
       "[1] 1.5"
      ]
     },
     "metadata": {},
     "output_type": "display_data"
    }
   ],
   "source": [
    "Utility(Network0, 1.5, 4, 3, Ministeps)"
   ]
  },
  {
   "cell_type": "markdown",
   "id": "a26c5c4b-646b-4245-bac1-ca8b42eaaff8",
   "metadata": {},
   "source": [
    "# Распределения"
   ]
  },
  {
   "cell_type": "raw",
   "id": "f0e1cc4f-b1c5-4e91-a703-b6acd5a55a30",
   "metadata": {},
   "source": [
    "Distribution_actors <- function(i, Network, beta, Possible_Ministep_Matrix_vector)"
   ]
  },
  {
   "cell_type": "code",
   "execution_count": 11,
   "id": "e02840dd-01a8-484a-aa5c-694b558e7b8c",
   "metadata": {},
   "outputs": [
    {
     "name": "stdout",
     "output_type": "stream",
     "text": [
      "[1] 0\n",
      "[1] 1.5\n",
      "[1] 1.5\n",
      "[1] 1.5\n",
      "[1] 1.5\n"
     ]
    }
   ],
   "source": [
    "for(i in 1:size){\n",
    "    print(Utility(Network0, 1.5, 1, i, Ministeps))\n",
    "}"
   ]
  },
  {
   "cell_type": "code",
   "execution_count": 12,
   "id": "58fc1128-64e5-414d-9a2f-5cdf9b604991",
   "metadata": {},
   "outputs": [
    {
     "data": {
      "text/html": [
       "<style>\n",
       ".list-inline {list-style: none; margin:0; padding: 0}\n",
       ".list-inline>li {display: inline-block}\n",
       ".list-inline>li:not(:last-child)::after {content: \"\\00b7\"; padding: 0 .5ex}\n",
       "</style>\n",
       "<ol class=list-inline><li>0.0528352552933361</li><li>0.236791186176666</li><li>0.236791186176666</li><li>0.236791186176666</li><li>0.236791186176666</li></ol>\n"
      ],
      "text/latex": [
       "\\begin{enumerate*}\n",
       "\\item 0.0528352552933361\n",
       "\\item 0.236791186176666\n",
       "\\item 0.236791186176666\n",
       "\\item 0.236791186176666\n",
       "\\item 0.236791186176666\n",
       "\\end{enumerate*}\n"
      ],
      "text/markdown": [
       "1. 0.0528352552933361\n",
       "2. 0.236791186176666\n",
       "3. 0.236791186176666\n",
       "4. 0.236791186176666\n",
       "5. 0.236791186176666\n",
       "\n",
       "\n"
      ],
      "text/plain": [
       "[1] 0.05283526 0.23679119 0.23679119 0.23679119 0.23679119"
      ]
     },
     "metadata": {},
     "output_type": "display_data"
    }
   ],
   "source": [
    "Distribution_actors(1, Network0, 1.5, Ministeps)"
   ]
  },
  {
   "cell_type": "code",
   "execution_count": 13,
   "id": "a587681f-a86d-46bf-aea1-1625bb86e603",
   "metadata": {},
   "outputs": [
    {
     "data": {
      "text/html": [
       "5"
      ],
      "text/latex": [
       "5"
      ],
      "text/markdown": [
       "5"
      ],
      "text/plain": [
       "[1] 5"
      ]
     },
     "metadata": {},
     "output_type": "display_data"
    }
   ],
   "source": [
    "length(Network0[i, ])"
   ]
  },
  {
   "cell_type": "code",
   "execution_count": 14,
   "id": "c477f603-d450-4289-8df3-029890e26d5b",
   "metadata": {},
   "outputs": [],
   "source": [
    "Distribution_actors <- function(i, Network, beta, Possible_Ministep_Matrix_vector) {\n",
    "\tUtil <- numeric(length(Network[i, ]))\n",
    "\ttotal_util <- 0\n",
    "  \n",
    "\tfor (h in 1:length(Network[i, ])) {\n",
    "\t\ttotal_util <- total_util + exp(Utility(Network, beta, i, h, Possible_Ministep_Matrix_vector))\n",
    "\t}\n",
    "\n",
    "\n",
    "    \n",
    "\tUtil_j <- numeric(length(Network[i, ]))\n",
    "\n",
    "\tfor (j in 1:length(Network[i, ])) {\n",
    "\t\t\tUtil_j[j] <- exp(Utility(Network, beta, i, j, Possible_Ministep_Matrix_vector))\n",
    "\t\t\tUtil[j] <- Util_j[j] / total_util\n",
    "\t}\n",
    "    \n",
    "\treturn(Util)\n",
    "}"
   ]
  },
  {
   "cell_type": "code",
   "execution_count": null,
   "id": "6cdb21a6-6c3b-4a3f-b540-ab115fbc526f",
   "metadata": {},
   "outputs": [],
   "source": []
  }
 ],
 "metadata": {
  "kernelspec": {
   "display_name": "R",
   "language": "R",
   "name": "ir"
  },
  "language_info": {
   "codemirror_mode": "r",
   "file_extension": ".r",
   "mimetype": "text/x-r-source",
   "name": "R",
   "pygments_lexer": "r",
   "version": "4.4.0"
  }
 },
 "nbformat": 4,
 "nbformat_minor": 5
}
