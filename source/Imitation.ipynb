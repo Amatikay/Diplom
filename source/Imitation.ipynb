{
 "cells": [
  {
   "cell_type": "markdown",
   "id": "81acb1ae-5e85-48ac-a98e-6f09026b19e7",
   "metadata": {},
   "source": [
    "![image](../pic/pic1.jpg)\n",
    "![image](../pic/pic2.jpg)"
   ]
  },
  {
   "cell_type": "markdown",
   "id": "75288b6f-78c2-4c8e-b1a2-76482400973f",
   "metadata": {},
   "source": [
    "Длинные названия потому, что за жизненным циклом обектов следить не умею :)"
   ]
  },
  {
   "cell_type": "markdown",
   "id": "ef971893-ae83-46bb-b764-cacdac6c4161",
   "metadata": {},
   "source": [
    "Симулирую **ТОЛЬКО** создание новых связей"
   ]
  },
  {
   "cell_type": "code",
   "execution_count": 1,
   "id": "959d1124-01d9-4725-bc73-66bb80c4476e",
   "metadata": {},
   "outputs": [],
   "source": [
    "Generate_Network_t0 <- function(size = 40, sparsity = 0.7) {\n",
    "\tnetwork <- matrix(0, nrow=size, ncol=size)\n",
    "  \n",
    "\tfor (i in 1:size) {\n",
    "\t\tfor (j in 1:size) {\n",
    "\t\t\tif (runif(1) > sparsity) {\n",
    "\t\t\t\tnetwork[i, j] <- 1\n",
    "\t\t\t}\n",
    "\t\t}\n",
    "\t}\n",
    "  \n",
    "\treturn(network)\n",
    "}\n",
    "\n",
    "\n",
    "Network_function_1 <- function(i, Network) { # outdegree (density)\n",
    "\tnet <- sum(Network[i, ])\n",
    "\treturn(net)\n",
    "}\n",
    "\n",
    "\n",
    "Network_function_3 <- function(i, Network) { # transitive triads (transTrip)\n",
    "\tnet <- 0\n",
    "\tfor (j in 1:length(Network[i, ])) {\n",
    "\t\tfor(h in 1:length(Network[i, ])){\n",
    "\t\t\tif(i!=j & j != h){\n",
    "\t\t\t\tnet <- net + (Network[i,j] * Network[i,h] * Network[h,j]) \n",
    "\t\t\t}\n",
    "\t\t}\n",
    "\t}\n",
    "\treturn(net)\n",
    "}\n",
    "\n",
    "Generate_Possible_Ministep_Matrix_vector <- function(i, Network) {\n",
    "\tNetworks <- list()\n",
    "  \n",
    "\tfor (j in 1:length(Network[i, ])) {\n",
    "\t\tif (i != j) {\n",
    "\t\t\tTMP_Net <- Network\n",
    "\t\t\tTMP_Net[i, j] <- 1\n",
    "\t\t\tNetworks[[j]] <- TMP_Net    \n",
    "\t\t}\n",
    "\t}\n",
    "\treturn(Networks)\n",
    "}\n",
    "\n",
    "Ministep <- function(Network, i, j) {\n",
    "\tNetwork[i, j] <- 1\n",
    "\treturn(Network)\n",
    "}\n",
    "\n",
    "\n",
    "Distribution_actors <- function(i, Network, beta) {\n",
    "\tUtil <- numeric( length(Network[i, ]) )\n",
    "\ttotal_util <- 0\n",
    "  \n",
    "\tfor (h in 1:length(Network[i, ])) {\n",
    "\t\tif (i != h) {\n",
    "\t\t\ttotal_util <- total_util + exp(Utility(Network, beta, i, h))\n",
    "\t\t}\n",
    "\t}\n",
    "  \n",
    "\tUtil_j <- numeric(length(Network[i, ]))\n",
    "  \n",
    "\tfor (j in 1:length(Network[i, ])) {\n",
    "\t\tif (j != i) {\n",
    "\t\t\tUtil_j[j] <- exp(Utility(Network, beta, i, j))\n",
    "            # print(Util_j[j])\n",
    "            # print(total_util)\n",
    "\t\t\tUtil[j] <- Util_j[j] / total_util\n",
    "\t\t}\n",
    "\t}\n",
    "\tUtil[which(is.na(Util))] <- 0\n",
    "\treturn(Util)\n",
    "}\n",
    "\n",
    "Utility <- function(Network, beta, i, j) {\n",
    "\tutil <- 0\n",
    "\tutil <- util + (beta[1] * Network_function_1(i, Network)) + (beta[2] * Network_function_3(i, Network))\n",
    "\treturn(util)\n",
    "}\n",
    "\n",
    "Simulator <- function(Network0, t = 0, LambdaV, total_Lambda, T, beta) {\n",
    "\tNetwork <- Network0 \n",
    "\twhile (t < T) {\n",
    "\t\tdeltaT <- rexp(1, rate=total_Lambda)\n",
    "\t\ti <- sample(1:length(Network0[1, ]), size=1, prob=(LambdaV / total_Lambda))\n",
    "      \n",
    "\t\tprob_vector <- 0\n",
    "\t\tprob_vector <- Distribution_actors(i, Network, beta)\n",
    "        # print(sum(prob_vector))\n",
    "\t\tj <- sample(1:length(Network0[i,]), size=1, prob=prob_vector)\n",
    "\t\tNetwork[i, j] <- 1\n",
    "\t\tt <- t + deltaT\n",
    "\n",
    "\t}\n",
    "\treturn(Network)\n",
    "}\n"
   ]
  },
  {
   "cell_type": "code",
   "execution_count": 2,
   "id": "87b11939-c1cf-42b7-ab98-ef56f48c9138",
   "metadata": {},
   "outputs": [
    {
     "data": {
      "text/html": [
       "13.7439754815772"
      ],
      "text/latex": [
       "13.7439754815772"
      ],
      "text/markdown": [
       "13.7439754815772"
      ],
      "text/plain": [
       "[1] 13.74398"
      ]
     },
     "metadata": {},
     "output_type": "display_data"
    }
   ],
   "source": [
    "size <- 30\n",
    "Network0 <- Generate_Network_t0(size = size)\n",
    "LambdaV <- runif(n = size, min = 0.1, max = 1) \n",
    "total_Lambda <- sum(LambdaV)\n",
    "total_Lambda\n",
    "# beta <- c(runif(n = 1, min = -10, max = 10), runif(n = 1, min = -10, max = 10)) \n",
    "beta <- c(1.3,1.6)\n",
    "T <- 5"
   ]
  },
  {
   "cell_type": "raw",
   "id": "c913b65e-76c6-4bbe-9bc6-6777c1f4bc4f",
   "metadata": {
    "scrolled": true
   },
   "source": [
    "# Блок отладки\n",
    "for(k in 1:size){\n",
    "    print(\"Итерация\")\n",
    "    print(k)\n",
    "    print(\"Распределение\")\n",
    "    print(Distribution_actors(k, Network0, beta))\n",
    "    print(\"Сумма\")\n",
    "    print(sum(Distribution_actors(k, Network0, beta)))\n",
    "    print(\"Функция  сети 1\")\n",
    "    print(Network_function_1(k,Network0))\n",
    "    print(\"Функция  сети 3\")\n",
    "    print(Network_function_3(k,Network0))\n",
    "}\n"
   ]
  },
  {
   "cell_type": "raw",
   "id": "797f2f10-156a-41a1-8207-1d9c7617a383",
   "metadata": {},
   "source": [
    "write.table(Network0, file = \"Network0.dat\", sep = \" \", row.names = FALSE, col.names = FALSE)"
   ]
  },
  {
   "cell_type": "code",
   "execution_count": 3,
   "id": "d364eafe-4a5d-4988-bb64-b1e83397dccc",
   "metadata": {
    "scrolled": true
   },
   "outputs": [],
   "source": [
    "Network1 <- Simulator(Network0, t = 0, LambdaV, total_Lambda, T, beta)"
   ]
  },
  {
   "cell_type": "raw",
   "id": "a506c64a-c783-4a39-8dc6-2c6533e19f11",
   "metadata": {},
   "source": [
    "write.table(Network1, file = \"Network1.dat\", sep = \" \", row.names = FALSE, col.names = FALSE)"
   ]
  },
  {
   "cell_type": "code",
   "execution_count": 4,
   "id": "8c88c480-30c8-456a-8513-6721d28533d1",
   "metadata": {
    "scrolled": true
   },
   "outputs": [],
   "source": [
    "Network2 <- Simulator(Network1, t = 0, LambdaV, total_Lambda, T, beta)"
   ]
  },
  {
   "cell_type": "raw",
   "id": "2a70f9d2-ccf1-4d8e-8535-237e5324be55",
   "metadata": {},
   "source": [
    "write.table(Network2, file = \"Network2.dat\", sep = \" \", row.names = FALSE, col.names = FALSE)"
   ]
  },
  {
   "cell_type": "code",
   "execution_count": 5,
   "id": "4630b696-9898-49c2-88d7-9fa6048a702f",
   "metadata": {},
   "outputs": [
    {
     "data": {
      "text/html": [
       "273"
      ],
      "text/latex": [
       "273"
      ],
      "text/markdown": [
       "273"
      ],
      "text/plain": [
       "[1] 273"
      ]
     },
     "metadata": {},
     "output_type": "display_data"
    },
    {
     "data": {
      "text/html": [
       "321"
      ],
      "text/latex": [
       "321"
      ],
      "text/markdown": [
       "321"
      ],
      "text/plain": [
       "[1] 321"
      ]
     },
     "metadata": {},
     "output_type": "display_data"
    },
    {
     "data": {
      "text/html": [
       "368"
      ],
      "text/latex": [
       "368"
      ],
      "text/markdown": [
       "368"
      ],
      "text/plain": [
       "[1] 368"
      ]
     },
     "metadata": {},
     "output_type": "display_data"
    }
   ],
   "source": [
    "sum(Network0)\n",
    "sum(Network1)\n",
    "sum(Network2)"
   ]
  },
  {
   "cell_type": "markdown",
   "id": "79c7bb39-d83c-472f-b0d4-04a428fd72c5",
   "metadata": {},
   "source": [
    "---\n",
    "# Проверка в RSiena"
   ]
  },
  {
   "cell_type": "code",
   "execution_count": 6,
   "id": "3d8737b2-4862-43af-b32a-3a6dec61f9d4",
   "metadata": {},
   "outputs": [],
   "source": [
    "library(RSiena)"
   ]
  },
  {
   "cell_type": "code",
   "execution_count": 7,
   "id": "33222220-bbc3-4036-b3a0-dc4f05efc932",
   "metadata": {},
   "outputs": [
    {
     "data": {
      "text/plain": [
       "Type         oneMode             \n",
       "Observations 3                   \n",
       "Nodeset      Actors (30 elements)\n"
      ]
     },
     "metadata": {},
     "output_type": "display_data"
    }
   ],
   "source": [
    "\n",
    "\n",
    "\n",
    "Networks <- array(c(Network0, Network1, Network2), dim = c(size, size, 3))\n",
    "\n",
    "Networks <- sienaDependent(Networks, nodeSet=\"Actors\")\n",
    "\n",
    "Networks\n",
    "     "
   ]
  },
  {
   "cell_type": "code",
   "execution_count": 8,
   "id": "e5c3fd95-a5a6-401e-89c3-7125fae2468e",
   "metadata": {},
   "outputs": [
    {
     "name": "stderr",
     "output_type": "stream",
     "text": [
      "For dependent variable Networks, in some periods,\n",
      "\n",
      "there are only increases, or only decreases.\n",
      "\n",
      "This will be respected in the simulations. \n",
      "\n",
      "If this is not desired, use allowOnly=FALSE when creating the dependent variable.\n",
      "\n"
     ]
    },
    {
     "data": {
      "text/plain": [
       "Dependent variables:  Networks \n",
       "Number of observations: 3 \n",
       "\n",
       "Nodeset                  Actors \n",
       "Number of nodes              30 \n",
       "\n",
       "Dependent variable Networks     \n",
       "Type               oneMode      \n",
       "Observations       3            \n",
       "Nodeset            Actors       \n",
       "Densities          0.3 0.36 0.41\n",
       "\n",
       "\"uponly\":  Networks:    all periods"
      ]
     },
     "metadata": {},
     "output_type": "display_data"
    }
   ],
   "source": [
    "mydata <- sienaDataCreate(Networks)\n",
    "myeff <- getEffects(mydata)\n",
    "mydata"
   ]
  },
  {
   "cell_type": "markdown",
   "id": "327c8b06-83ee-4b80-a488-89af637baec9",
   "metadata": {},
   "source": [
    "Сиена видит коэффиценты разреженности. Они идентичны заданным.\n",
    "\n",
    "Так же в предупреждении указано, что сеть только увеличивалась или уменьшалась, что корректно отвечает заданным условиям. "
   ]
  },
  {
   "cell_type": "raw",
   "id": "40070439-1c44-4bcb-8f63-0c1e5d9913d2",
   "metadata": {},
   "source": [
    "effectsDocumentation(myeff)"
   ]
  },
  {
   "cell_type": "code",
   "execution_count": 9,
   "id": "b112113b-adf9-4016-9bbf-4f0ed5e95410",
   "metadata": {},
   "outputs": [
    {
     "name": "stdout",
     "output_type": "stream",
     "text": [
      "  effectName          include fix   test  initialValue parm\n",
      "1 transitive triplets TRUE    FALSE FALSE          0   0   \n"
     ]
    }
   ],
   "source": [
    "# myeff <- includeEffects(myeff, outPop, type = \"creation\", include =TRUE)\n",
    "# myeff <- includeEffects(myeff, outRate, type = \"rate\", include =TRUE)\n",
    "# myeff <- includeEffects(myeff, outRateLog, type = \"rate\", include = TRUE)\n",
    "\n",
    "# myeff <- includeEffects(myeff, transTrip, type = \"creation\", include = TRUE)\n",
    "myeff <- includeEffects(myeff, transTrip, include = TRUE)"
   ]
  },
  {
   "cell_type": "code",
   "execution_count": 10,
   "id": "0d3a5965-ebbb-4834-a6ec-d96298c3f38e",
   "metadata": {},
   "outputs": [
    {
     "data": {
      "text/html": [
       "<table class=\"dataframe\">\n",
       "<caption>A summary.sienaEffects: 4 × 31</caption>\n",
       "<thead>\n",
       "\t<tr><th></th><th scope=col>name</th><th scope=col>effectName</th><th scope=col>functionName</th><th scope=col>shortName</th><th scope=col>interaction1</th><th scope=col>interaction2</th><th scope=col>type</th><th scope=col>basicRate</th><th scope=col>include</th><th scope=col>randomEffects</th><th scope=col>⋯</th><th scope=col>effect3</th><th scope=col>interactionType</th><th scope=col>local</th><th scope=col>setting</th><th scope=col>effectFn</th><th scope=col>statisticFn</th><th scope=col>netType</th><th scope=col>groupName</th><th scope=col>group</th><th scope=col>effectNumber</th></tr>\n",
       "\t<tr><th></th><th scope=col>&lt;chr&gt;</th><th scope=col>&lt;chr&gt;</th><th scope=col>&lt;chr&gt;</th><th scope=col>&lt;chr&gt;</th><th scope=col>&lt;chr&gt;</th><th scope=col>&lt;chr&gt;</th><th scope=col>&lt;chr&gt;</th><th scope=col>&lt;lgl&gt;</th><th scope=col>&lt;lgl&gt;</th><th scope=col>&lt;lgl&gt;</th><th scope=col>⋯</th><th scope=col>&lt;int&gt;</th><th scope=col>&lt;chr&gt;</th><th scope=col>&lt;lgl&gt;</th><th scope=col>&lt;chr&gt;</th><th scope=col>&lt;list&gt;</th><th scope=col>&lt;list&gt;</th><th scope=col>&lt;chr&gt;</th><th scope=col>&lt;chr&gt;</th><th scope=col>&lt;dbl&gt;</th><th scope=col>&lt;int&gt;</th></tr>\n",
       "</thead>\n",
       "<tbody>\n",
       "\t<tr><th scope=row>Networks.rate.1</th><td>Networks</td><td>constant Networks rate (period 1)</td><td>Amount of network change in period 1</td><td>Rate     </td><td></td><td></td><td>rate</td><td> TRUE</td><td>TRUE</td><td>FALSE</td><td>⋯</td><td>0</td><td>      </td><td>TRUE</td><td></td><td>NULL</td><td>NULL</td><td>oneMode</td><td>Group1</td><td>1</td><td> 1</td></tr>\n",
       "\t<tr><th scope=row>Networks.rate.2</th><td>Networks</td><td>constant Networks rate (period 2)</td><td>Amount of network change in period 2</td><td>Rate     </td><td></td><td></td><td>rate</td><td> TRUE</td><td>TRUE</td><td>FALSE</td><td>⋯</td><td>0</td><td>      </td><td>TRUE</td><td></td><td>NULL</td><td>NULL</td><td>oneMode</td><td>Group1</td><td>1</td><td> 2</td></tr>\n",
       "\t<tr><th scope=row>Networks.obj.eval.1</th><td>Networks</td><td>reciprocity                      </td><td>Number of reciprocated ties         </td><td>recip    </td><td></td><td></td><td>eval</td><td>FALSE</td><td>TRUE</td><td>FALSE</td><td>⋯</td><td>0</td><td>dyadic</td><td>TRUE</td><td></td><td>NULL</td><td>NULL</td><td>oneMode</td><td>Group1</td><td>1</td><td>12</td></tr>\n",
       "\t<tr><th scope=row>Networks.obj.eval.2</th><td>Networks</td><td>transitive triplets              </td><td>Number of transitive triplets       </td><td>transTrip</td><td></td><td></td><td>eval</td><td>FALSE</td><td>TRUE</td><td>FALSE</td><td>⋯</td><td>0</td><td>      </td><td>TRUE</td><td></td><td>NULL</td><td>NULL</td><td>oneMode</td><td>Group1</td><td>1</td><td>18</td></tr>\n",
       "</tbody>\n",
       "</table>\n"
      ],
      "text/latex": [
       "A summary.sienaEffects: 4 × 31\n",
       "\\begin{tabular}{r|lllllllllllllllllllll}\n",
       "  & name & effectName & functionName & shortName & interaction1 & interaction2 & type & basicRate & include & randomEffects & ⋯ & effect3 & interactionType & local & setting & effectFn & statisticFn & netType & groupName & group & effectNumber\\\\\n",
       "  & <chr> & <chr> & <chr> & <chr> & <chr> & <chr> & <chr> & <lgl> & <lgl> & <lgl> & ⋯ & <int> & <chr> & <lgl> & <chr> & <list> & <list> & <chr> & <chr> & <dbl> & <int>\\\\\n",
       "\\hline\n",
       "\tNetworks.rate.1 & Networks & constant Networks rate (period 1) & Amount of network change in period 1 & Rate      &  &  & rate &  TRUE & TRUE & FALSE & ⋯ & 0 &        & TRUE &  & NULL & NULL & oneMode & Group1 & 1 &  1\\\\\n",
       "\tNetworks.rate.2 & Networks & constant Networks rate (period 2) & Amount of network change in period 2 & Rate      &  &  & rate &  TRUE & TRUE & FALSE & ⋯ & 0 &        & TRUE &  & NULL & NULL & oneMode & Group1 & 1 &  2\\\\\n",
       "\tNetworks.obj.eval.1 & Networks & reciprocity                       & Number of reciprocated ties          & recip     &  &  & eval & FALSE & TRUE & FALSE & ⋯ & 0 & dyadic & TRUE &  & NULL & NULL & oneMode & Group1 & 1 & 12\\\\\n",
       "\tNetworks.obj.eval.2 & Networks & transitive triplets               & Number of transitive triplets        & transTrip &  &  & eval & FALSE & TRUE & FALSE & ⋯ & 0 &        & TRUE &  & NULL & NULL & oneMode & Group1 & 1 & 18\\\\\n",
       "\\end{tabular}\n"
      ],
      "text/markdown": [
       "\n",
       "A summary.sienaEffects: 4 × 31\n",
       "\n",
       "| <!--/--> | name &lt;chr&gt; | effectName &lt;chr&gt; | functionName &lt;chr&gt; | shortName &lt;chr&gt; | interaction1 &lt;chr&gt; | interaction2 &lt;chr&gt; | type &lt;chr&gt; | basicRate &lt;lgl&gt; | include &lt;lgl&gt; | randomEffects &lt;lgl&gt; | ⋯ ⋯ | effect3 &lt;int&gt; | interactionType &lt;chr&gt; | local &lt;lgl&gt; | setting &lt;chr&gt; | effectFn &lt;list&gt; | statisticFn &lt;list&gt; | netType &lt;chr&gt; | groupName &lt;chr&gt; | group &lt;dbl&gt; | effectNumber &lt;int&gt; |\n",
       "|---|---|---|---|---|---|---|---|---|---|---|---|---|---|---|---|---|---|---|---|---|---|\n",
       "| Networks.rate.1 | Networks | constant Networks rate (period 1) | Amount of network change in period 1 | Rate      | <!----> | <!----> | rate |  TRUE | TRUE | FALSE | ⋯ | 0 | <!----> | TRUE | <!----> | NULL | NULL | oneMode | Group1 | 1 |  1 |\n",
       "| Networks.rate.2 | Networks | constant Networks rate (period 2) | Amount of network change in period 2 | Rate      | <!----> | <!----> | rate |  TRUE | TRUE | FALSE | ⋯ | 0 | <!----> | TRUE | <!----> | NULL | NULL | oneMode | Group1 | 1 |  2 |\n",
       "| Networks.obj.eval.1 | Networks | reciprocity                       | Number of reciprocated ties          | recip     | <!----> | <!----> | eval | FALSE | TRUE | FALSE | ⋯ | 0 | dyadic | TRUE | <!----> | NULL | NULL | oneMode | Group1 | 1 | 12 |\n",
       "| Networks.obj.eval.2 | Networks | transitive triplets               | Number of transitive triplets        | transTrip | <!----> | <!----> | eval | FALSE | TRUE | FALSE | ⋯ | 0 | <!----> | TRUE | <!----> | NULL | NULL | oneMode | Group1 | 1 | 18 |\n",
       "\n"
      ],
      "text/plain": [
       "                    name     effectName                       \n",
       "Networks.rate.1     Networks constant Networks rate (period 1)\n",
       "Networks.rate.2     Networks constant Networks rate (period 2)\n",
       "Networks.obj.eval.1 Networks reciprocity                      \n",
       "Networks.obj.eval.2 Networks transitive triplets              \n",
       "                    functionName                         shortName interaction1\n",
       "Networks.rate.1     Amount of network change in period 1 Rate                  \n",
       "Networks.rate.2     Amount of network change in period 2 Rate                  \n",
       "Networks.obj.eval.1 Number of reciprocated ties          recip                 \n",
       "Networks.obj.eval.2 Number of transitive triplets        transTrip             \n",
       "                    interaction2 type basicRate include randomEffects ⋯ effect3\n",
       "Networks.rate.1                  rate  TRUE     TRUE    FALSE         ⋯ 0      \n",
       "Networks.rate.2                  rate  TRUE     TRUE    FALSE         ⋯ 0      \n",
       "Networks.obj.eval.1              eval FALSE     TRUE    FALSE         ⋯ 0      \n",
       "Networks.obj.eval.2              eval FALSE     TRUE    FALSE         ⋯ 0      \n",
       "                    interactionType local setting effectFn statisticFn netType\n",
       "Networks.rate.1                     TRUE          NULL     NULL        oneMode\n",
       "Networks.rate.2                     TRUE          NULL     NULL        oneMode\n",
       "Networks.obj.eval.1 dyadic          TRUE          NULL     NULL        oneMode\n",
       "Networks.obj.eval.2                 TRUE          NULL     NULL        oneMode\n",
       "                    groupName group effectNumber\n",
       "Networks.rate.1     Group1    1      1          \n",
       "Networks.rate.2     Group1    1      2          \n",
       "Networks.obj.eval.1 Group1    1     12          \n",
       "Networks.obj.eval.2 Group1    1     18          "
      ]
     },
     "metadata": {},
     "output_type": "display_data"
    }
   ],
   "source": [
    "summary(myeff)"
   ]
  },
  {
   "cell_type": "code",
   "execution_count": 11,
   "id": "acdc53cc-b5da-4276-9999-23090b1e8ae6",
   "metadata": {},
   "outputs": [
    {
     "name": "stdout",
     "output_type": "stream",
     "text": [
      "If you use this algorithm object, siena07 will create/use an output file Тест симулятора сети.txt .\n"
     ]
    }
   ],
   "source": [
    "myalgorithm <- sienaAlgorithmCreate(projname = 'Тест симулятора сети')\n",
    "ans <- siena07( myalgorithm, data = mydata, effects = myeff, clusterType=\"FORK\", useCluster=TRUE, nbrNodes=12)"
   ]
  },
  {
   "cell_type": "code",
   "execution_count": 12,
   "id": "c556cb46-a588-4767-82e4-51a9e2655a91",
   "metadata": {},
   "outputs": [
    {
     "data": {
      "text/plain": [
       "Estimates, standard errors and convergence t-ratios\n",
       "\n",
       "                                   Estimate   Standard   Convergence \n",
       "                                                Error      t-ratio   \n",
       "\n",
       "Rate parameters: \n",
       "  0.1      Rate parameter period 1 1.6555   ( 0.2455   )             \n",
       "  0.2      Rate parameter period 2 1.6247   ( 0.2363   )             \n",
       "\n",
       "Other parameters: \n",
       "  1.  eval reciprocity             0.2287   ( 0.2361   )    0.0214   \n",
       "  2.  eval transitive triplets     0.0418   ( 0.0666   )   -0.0847   \n",
       "\n",
       "Overall maximum convergence ratio:    0.0895 \n",
       "\n",
       "\n",
       "Total of 1774 iteration steps.\n"
      ]
     },
     "metadata": {},
     "output_type": "display_data"
    }
   ],
   "source": [
    "ans"
   ]
  },
  {
   "cell_type": "markdown",
   "id": "927c6267-6eec-451c-8f7d-b7b6e821d894",
   "metadata": {},
   "source": [
    "Необходимо помнить, что оцениваем $ exp(\\text{парамтер}) $ (Для созданных мной параметров)"
   ]
  },
  {
   "cell_type": "markdown",
   "id": "3979491c-3163-40fb-8644-466c9ef7685f",
   "metadata": {},
   "source": [
    "---\n",
    "Скриптом `../data/main.r` запустил 40 повторов. Графики сходимости (сходимости ли ?).\n",
    "В скрипт немного отличается от Ноубтбука. Правки вроде случайных начальных парметров\n",
    "\n",
    "beta - мои параметры. \n",
    "- beta1 - density\n",
    "- beta2 - transTrip\n",
    "\n",
    "teta - оцененые параметры\n",
    "\n",
    "rate - оцененая скорость\n",
    "- rate1 - 1 период\n",
    "- rate2 - 2 период\n",
    "\n",
    "totalLambda - суммарная интенсивность всех акторов (задана)"
   ]
  },
  {
   "cell_type": "code",
   "execution_count": 28,
   "id": "408daee6-a1c2-46c2-8835-95eaf3acb0e2",
   "metadata": {},
   "outputs": [],
   "source": [
    "beta <- read.table(\"../data/beta.txt\", sep = \" \")\n",
    "rate <- read.table(\"../data/rate.txt\", sep = \" \")\n",
    "teta <- read.table(\"../data/teta.txt\", sep = \" \") # Почему то записывается только первый столбец, \n",
    "                                                  # но если запустить в jupyter \n",
    "                                                  # То выводятся оба\n",
    "total_lambda <- read.table(\"../data/totalLambda.txt\", sep = \" \")"
   ]
  },
  {
   "cell_type": "code",
   "execution_count": 26,
   "id": "51b48dd8-5697-48b2-b8fd-842d8032a7f1",
   "metadata": {},
   "outputs": [
    {
     "data": {
      "text/html": [
       "2.79425970111886"
      ],
      "text/latex": [
       "2.79425970111886"
      ],
      "text/markdown": [
       "2.79425970111886"
      ],
      "text/plain": [
       "[1] 2.79426"
      ]
     },
     "metadata": {},
     "output_type": "display_data"
    },
    {
     "data": {
      "image/png": "[encoded data removed]",
      "text/plain": [
       "plot without title"
      ]
     },
     "metadata": {
      "image/png": {
       "height": 420,
       "width": 420
      }
     },
     "output_type": "display_data"
    }
   ],
   "source": [
    "log(total_lambda$V1[1])\n",
    "\n",
    "min_y <- min(min(rate$V1), min(rate$V2), log(total_lambda$V1))\n",
    "max_y <- max(max(rate$V1), max(rate$V2), log(total_lambda$V1))\n",
    "\n",
    "\n",
    "plot(rate$V1, type = \"l\", col = \"blue\", ylim = c(min_y, max_y))\n",
    "lines(rate$V2, type = \"l\", col = \"green\")\n",
    "\n",
    "abline(h = log(total_lambda$V1[1]), col = \"red\", lty = 2)\n"
   ]
  },
  {
   "cell_type": "code",
   "execution_count": 27,
   "id": "10a514f9-921c-4caa-b096-d287b7544020",
   "metadata": {},
   "outputs": [
    {
     "data": {
      "image/png": "[encoded data removed]",
      "text/plain": [
       "plot without title"
      ]
     },
     "metadata": {
      "image/png": {
       "height": 420,
       "width": 420
      }
     },
     "output_type": "display_data"
    }
   ],
   "source": [
    "plot(teta$V1, type=\"l\", col=\"blue\", ylim=c(-.5, 1))\n",
    "abline(h = log(abs(beta$V1[1])), col = \"red\", lty = 2)\n",
    "# abline(h = log(abs(beta$V2[2])), col = \"orange\", lty = 2)\n",
    "# lines(teta$V2, col = \"green\", lty = 2)"
   ]
  },
  {
   "cell_type": "code",
   "execution_count": null,
   "id": "5e5ab802-832c-45a7-9682-d08466074b5c",
   "metadata": {},
   "outputs": [],
   "source": []
  }
 ],
 "metadata": {
  "kernelspec": {
   "display_name": "R",
   "language": "R",
   "name": "ir"
  },
  "language_info": {
   "codemirror_mode": "r",
   "file_extension": ".r",
   "mimetype": "text/x-r-source",
   "name": "R",
   "pygments_lexer": "r",
   "version": "4.3.3"
  }
 },
 "nbformat": 4,
 "nbformat_minor": 5
}
