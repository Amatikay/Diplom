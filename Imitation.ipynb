{
 "cells": [
  {
   "cell_type": "markdown",
   "id": "75288b6f-78c2-4c8e-b1a2-76482400973f",
   "metadata": {},
   "source": [
    "Длинные названия потому, что мне лень писать документацию, а за жизненным циклом обектов следить не умею :)"
   ]
  },
  {
   "cell_type": "markdown",
   "id": "81acb1ae-5e85-48ac-a98e-6f09026b19e7",
   "metadata": {},
   "source": [
    "![image](./pic1.jpg)\n",
    "![image](./pic2.jpg)"
   ]
  },
  {
   "cell_type": "code",
   "execution_count": 1,
   "id": "959d1124-01d9-4725-bc73-66bb80c4476e",
   "metadata": {},
   "outputs": [],
   "source": [
    "Generate_Network_t0 <- function(size = 40, sparsity = 0.7) {\n",
    "  network <- matrix(0, nrow=size, ncol=size)\n",
    "  \n",
    "  for (i in 1:size) {\n",
    "    for (j in 1:size) {\n",
    "      if (runif(1) > sparsity) {\n",
    "        network[i, j] <- 1\n",
    "      }\n",
    "    }\n",
    "  }\n",
    "  \n",
    "  return(network)\n",
    "}\n",
    "\n",
    "\n",
    "# Смулирую ТОЛЬКО возникновение сети\n",
    "\n",
    "\n",
    "Network_function_1 <- function(i, Network) { # The out-degree (density) | Зачем тут минишаг? Для ковариат сложнее?\n",
    "  net <- 0\n",
    "  for (j in 1:length(Network[i, ])) {\n",
    "    net <- net + Network[i, j]\n",
    "  }\n",
    "  return(net)\n",
    "}\n",
    "\n",
    "Network_function_3 <- function(i, Network) { # The transTrip\n",
    "  net <- 0\n",
    "  for (j in 1:length(Network[i, ])) {\n",
    "      for(h in 1:length(Network[i, ])){\n",
    "          net <- net + (Network[i,j]*Network[i,h]*Network[h,j])\n",
    "      }\n",
    "  }\n",
    "  return(net)\n",
    "}\n",
    "\n",
    "Generate_Possible_Ministep_Matrix_vector <- function(i, Network) {\n",
    "  Networks <- list()\n",
    "  \n",
    "  for (j in 1:length(Network[i, ])) {\n",
    "    if (i != j) {\n",
    "      TMP_Net <- Network\n",
    "      TMP_Net[i, j] <- 1\n",
    "      Networks[[j]] <- TMP_Net    \n",
    "    }\n",
    "  }\n",
    "  return(Networks)\n",
    "}\n",
    "\n",
    "Ministep <- function(Network, i, j) {\n",
    "  Network[i, j] <- 1\n",
    "  \n",
    "  return(Network)\n",
    "}\n",
    "\n",
    "Distribution_actors <- function(i, Network, beta) {\n",
    "  Util_i_j <- 0\n",
    "  Util <- 0\n",
    "  for (j in 1:length(Network[i, ])) {\n",
    "\n",
    "        Util_i_j[j] <- Utility(Network, beta, i, j)\n",
    "\n",
    "        Util_i_h <- 0\n",
    "        for (h in 1:length(Network[i, ])) {\n",
    "          if (j != h) {\n",
    "            Util_i_h <- Util_i_h + Utility(Network, beta, i, h)\n",
    "          }\n",
    "        }\n",
    "        \n",
    "        Util[j] <- Util_i_j[j] / Util_i_h\n",
    "      \n",
    "        Util[i] <- 0\n",
    "\n",
    "  }\n",
    "  return(Util)\n",
    "}\n",
    "\n",
    "\n",
    "Utility <- function(Network, beta, i, j) {\n",
    "  util <- 0\n",
    "  util <- util + (beta[1] * Network_function_1(i, Network)) + (beta[2] * Network_function_3(i, Network)) # Если есть еще функции добавлять через сумму\n",
    "  \n",
    "  return(util)\n",
    "}\n",
    "\n",
    "\n",
    "Simulator <- function(Network0, t = 0, LambdaV, total_Lambda, T, beta) {\n",
    "  Network <- Network0 \n",
    "  while (t < T) {\n",
    "    deltaT <- rexp(1, rate=total_Lambda)\n",
    "    i <- sample(1:length(Network0[1, ]), size=1, prob=(LambdaV / total_Lambda))\n",
    "    j <- sample(1:length(Network0[, 1]), size=1, prob=Distribution_actors(i, Network, beta)) # Тут надо задать распределение\n",
    "    Network[i, j] <- 1\n",
    "    t <- t + deltaT\n",
    "  }\n",
    "  return(Network)\n",
    "}\n"
   ]
  },
  {
   "cell_type": "code",
   "execution_count": 2,
   "id": "87b11939-c1cf-42b7-ab98-ef56f48c9138",
   "metadata": {},
   "outputs": [
    {
     "data": {
      "text/html": [
       "43.0009700313443"
      ],
      "text/latex": [
       "43.0009700313443"
      ],
      "text/markdown": [
       "43.0009700313443"
      ],
      "text/plain": [
       "[1] 43.00097"
      ]
     },
     "metadata": {},
     "output_type": "display_data"
    }
   ],
   "source": [
    "size <- 15\n",
    "Network0 <- Generate_Network_t0(size = size)\n",
    "LambdaV <- runif(n = size, min = 0.1, max = 5) \n",
    "total_Lambda <- sum(LambdaV)\n",
    "total_Lambda\n",
    "beta <- c(2, 6) \n",
    "T <- 2"
   ]
  },
  {
   "cell_type": "code",
   "execution_count": 3,
   "id": "fc03111e-3029-49b5-8bc6-83e0c4147311",
   "metadata": {},
   "outputs": [],
   "source": [
    "write.table(Network0, file = \"Network0.dat\", sep = \" \", row.names = FALSE, col.names = FALSE)"
   ]
  },
  {
   "cell_type": "code",
   "execution_count": 4,
   "id": "d364eafe-4a5d-4988-bb64-b1e83397dccc",
   "metadata": {},
   "outputs": [],
   "source": [
    "Network1 <- Simulator(Network0, t = 0, LambdaV, total_Lambda, T, beta)"
   ]
  },
  {
   "cell_type": "code",
   "execution_count": 5,
   "id": "8506cd06-a8f6-4894-813b-3221b4ab84a8",
   "metadata": {},
   "outputs": [],
   "source": [
    "write.table(Network1, file = \"Network1.dat\", sep = \" \", row.names = FALSE, col.names = FALSE)"
   ]
  },
  {
   "cell_type": "code",
   "execution_count": 6,
   "id": "8c88c480-30c8-456a-8513-6721d28533d1",
   "metadata": {},
   "outputs": [],
   "source": [
    "Network2 <- Simulator(Network1, t = 0, LambdaV, total_Lambda, T, beta)"
   ]
  },
  {
   "cell_type": "code",
   "execution_count": 7,
   "id": "aed440a4-63d3-406c-baa1-443fbb572c04",
   "metadata": {},
   "outputs": [],
   "source": [
    "write.table(Network2, file = \"Network2.dat\", sep = \" \", row.names = FALSE, col.names = FALSE)"
   ]
  },
  {
   "cell_type": "code",
   "execution_count": 8,
   "id": "4630b696-9898-49c2-88d7-9fa6048a702f",
   "metadata": {},
   "outputs": [
    {
     "data": {
      "text/html": [
       "66"
      ],
      "text/latex": [
       "66"
      ],
      "text/markdown": [
       "66"
      ],
      "text/plain": [
       "[1] 66"
      ]
     },
     "metadata": {},
     "output_type": "display_data"
    },
    {
     "data": {
      "text/html": [
       "119"
      ],
      "text/latex": [
       "119"
      ],
      "text/markdown": [
       "119"
      ],
      "text/plain": [
       "[1] 119"
      ]
     },
     "metadata": {},
     "output_type": "display_data"
    },
    {
     "data": {
      "text/html": [
       "147"
      ],
      "text/latex": [
       "147"
      ],
      "text/markdown": [
       "147"
      ],
      "text/plain": [
       "[1] 147"
      ]
     },
     "metadata": {},
     "output_type": "display_data"
    }
   ],
   "source": [
    "sum(Network0)\n",
    "sum(Network1)\n",
    "sum(Network2)"
   ]
  },
  {
   "cell_type": "markdown",
   "id": "79c7bb39-d83c-472f-b0d4-04a428fd72c5",
   "metadata": {},
   "source": [
    "---\n",
    "# Проверка в RSiena"
   ]
  },
  {
   "cell_type": "code",
   "execution_count": 9,
   "id": "3d8737b2-4862-43af-b32a-3a6dec61f9d4",
   "metadata": {},
   "outputs": [],
   "source": [
    "library(RSiena)"
   ]
  },
  {
   "cell_type": "code",
   "execution_count": 10,
   "id": "33222220-bbc3-4036-b3a0-dc4f05efc932",
   "metadata": {},
   "outputs": [
    {
     "data": {
      "text/plain": [
       "Type         oneMode             \n",
       "Observations 3                   \n",
       "Nodeset      Actors (15 elements)\n"
      ]
     },
     "metadata": {},
     "output_type": "display_data"
    }
   ],
   "source": [
    "\n",
    "\n",
    "\n",
    "Networks <- array(c(Network0, Network1, Network2), dim = c(size, size, 3))\n",
    "\n",
    "Networks <- sienaDependent(Networks, nodeSet=\"Actors\")\n",
    "\n",
    "Networks\n",
    "     "
   ]
  },
  {
   "cell_type": "code",
   "execution_count": 11,
   "id": "e5c3fd95-a5a6-401e-89c3-7125fae2468e",
   "metadata": {},
   "outputs": [
    {
     "name": "stderr",
     "output_type": "stream",
     "text": [
      "For dependent variable Networks, in some periods,\n",
      "\n",
      "there are only increases, or only decreases.\n",
      "\n",
      "This will be respected in the simulations. \n",
      "\n",
      "If this is not desired, use allowOnly=FALSE when creating the dependent variable.\n",
      "\n"
     ]
    },
    {
     "data": {
      "text/plain": [
       "Dependent variables:  Networks \n",
       "Number of observations: 3 \n",
       "\n",
       "Nodeset                  Actors \n",
       "Number of nodes              15 \n",
       "\n",
       "Dependent variable Networks      \n",
       "Type               oneMode       \n",
       "Observations       3             \n",
       "Nodeset            Actors        \n",
       "Densities          0.29 0.54 0.68\n",
       "\n",
       "\"uponly\":  Networks:    all periods"
      ]
     },
     "metadata": {},
     "output_type": "display_data"
    }
   ],
   "source": [
    "mydata <- sienaDataCreate(Networks)\n",
    "myeff <- getEffects(mydata)\n",
    "mydata"
   ]
  },
  {
   "cell_type": "raw",
   "id": "40070439-1c44-4bcb-8f63-0c1e5d9913d2",
   "metadata": {},
   "source": [
    "effectsDocumentation(myeff)"
   ]
  },
  {
   "cell_type": "code",
   "execution_count": 12,
   "id": "b112113b-adf9-4016-9bbf-4f0ed5e95410",
   "metadata": {},
   "outputs": [
    {
     "name": "stdout",
     "output_type": "stream",
     "text": [
      "  effectName          include fix   test  initialValue parm\n",
      "1 transitive triplets TRUE    FALSE FALSE          0   0   \n"
     ]
    }
   ],
   "source": [
    "# myeff <- includeEffects(myeff, outPop, type = \"creation\", include =TRUE)\n",
    "# myeff <- includeEffects(myeff, outRate, type = \"rate\", include =TRUE)\n",
    "# myeff <- includeEffects(myeff, outRateLog, type = \"rate\", include = TRUE)\n",
    "\n",
    "# myeff <- includeEffects(myeff, transTrip, type = \"creation\", include = TRUE)\n",
    "myeff <- includeEffects(myeff, transTrip, include = TRUE)"
   ]
  },
  {
   "cell_type": "code",
   "execution_count": 13,
   "id": "0d3a5965-ebbb-4834-a6ec-d96298c3f38e",
   "metadata": {},
   "outputs": [
    {
     "data": {
      "text/html": [
       "<table class=\"dataframe\">\n",
       "<caption>A summary.sienaEffects: 4 × 31</caption>\n",
       "<thead>\n",
       "\t<tr><th></th><th scope=col>name</th><th scope=col>effectName</th><th scope=col>functionName</th><th scope=col>shortName</th><th scope=col>interaction1</th><th scope=col>interaction2</th><th scope=col>type</th><th scope=col>basicRate</th><th scope=col>include</th><th scope=col>randomEffects</th><th scope=col>⋯</th><th scope=col>effect3</th><th scope=col>interactionType</th><th scope=col>local</th><th scope=col>setting</th><th scope=col>effectFn</th><th scope=col>statisticFn</th><th scope=col>netType</th><th scope=col>groupName</th><th scope=col>group</th><th scope=col>effectNumber</th></tr>\n",
       "\t<tr><th></th><th scope=col>&lt;chr&gt;</th><th scope=col>&lt;chr&gt;</th><th scope=col>&lt;chr&gt;</th><th scope=col>&lt;chr&gt;</th><th scope=col>&lt;chr&gt;</th><th scope=col>&lt;chr&gt;</th><th scope=col>&lt;chr&gt;</th><th scope=col>&lt;lgl&gt;</th><th scope=col>&lt;lgl&gt;</th><th scope=col>&lt;lgl&gt;</th><th scope=col>⋯</th><th scope=col>&lt;int&gt;</th><th scope=col>&lt;chr&gt;</th><th scope=col>&lt;lgl&gt;</th><th scope=col>&lt;chr&gt;</th><th scope=col>&lt;list&gt;</th><th scope=col>&lt;list&gt;</th><th scope=col>&lt;chr&gt;</th><th scope=col>&lt;chr&gt;</th><th scope=col>&lt;dbl&gt;</th><th scope=col>&lt;int&gt;</th></tr>\n",
       "</thead>\n",
       "<tbody>\n",
       "\t<tr><th scope=row>Networks.rate.1</th><td>Networks</td><td>constant Networks rate (period 1)</td><td>Amount of network change in period 1</td><td>Rate     </td><td></td><td></td><td>rate</td><td> TRUE</td><td>TRUE</td><td>FALSE</td><td>⋯</td><td>0</td><td>      </td><td>TRUE</td><td></td><td>NULL</td><td>NULL</td><td>oneMode</td><td>Group1</td><td>1</td><td> 1</td></tr>\n",
       "\t<tr><th scope=row>Networks.rate.2</th><td>Networks</td><td>constant Networks rate (period 2)</td><td>Amount of network change in period 2</td><td>Rate     </td><td></td><td></td><td>rate</td><td> TRUE</td><td>TRUE</td><td>FALSE</td><td>⋯</td><td>0</td><td>      </td><td>TRUE</td><td></td><td>NULL</td><td>NULL</td><td>oneMode</td><td>Group1</td><td>1</td><td> 2</td></tr>\n",
       "\t<tr><th scope=row>Networks.obj.eval.1</th><td>Networks</td><td>reciprocity                      </td><td>Number of reciprocated ties         </td><td>recip    </td><td></td><td></td><td>eval</td><td>FALSE</td><td>TRUE</td><td>FALSE</td><td>⋯</td><td>0</td><td>dyadic</td><td>TRUE</td><td></td><td>NULL</td><td>NULL</td><td>oneMode</td><td>Group1</td><td>1</td><td>12</td></tr>\n",
       "\t<tr><th scope=row>Networks.obj.eval.2</th><td>Networks</td><td>transitive triplets              </td><td>Number of transitive triplets       </td><td>transTrip</td><td></td><td></td><td>eval</td><td>FALSE</td><td>TRUE</td><td>FALSE</td><td>⋯</td><td>0</td><td>      </td><td>TRUE</td><td></td><td>NULL</td><td>NULL</td><td>oneMode</td><td>Group1</td><td>1</td><td>18</td></tr>\n",
       "</tbody>\n",
       "</table>\n"
      ],
      "text/latex": [
       "A summary.sienaEffects: 4 × 31\n",
       "\\begin{tabular}{r|lllllllllllllllllllll}\n",
       "  & name & effectName & functionName & shortName & interaction1 & interaction2 & type & basicRate & include & randomEffects & ⋯ & effect3 & interactionType & local & setting & effectFn & statisticFn & netType & groupName & group & effectNumber\\\\\n",
       "  & <chr> & <chr> & <chr> & <chr> & <chr> & <chr> & <chr> & <lgl> & <lgl> & <lgl> & ⋯ & <int> & <chr> & <lgl> & <chr> & <list> & <list> & <chr> & <chr> & <dbl> & <int>\\\\\n",
       "\\hline\n",
       "\tNetworks.rate.1 & Networks & constant Networks rate (period 1) & Amount of network change in period 1 & Rate      &  &  & rate &  TRUE & TRUE & FALSE & ⋯ & 0 &        & TRUE &  & NULL & NULL & oneMode & Group1 & 1 &  1\\\\\n",
       "\tNetworks.rate.2 & Networks & constant Networks rate (period 2) & Amount of network change in period 2 & Rate      &  &  & rate &  TRUE & TRUE & FALSE & ⋯ & 0 &        & TRUE &  & NULL & NULL & oneMode & Group1 & 1 &  2\\\\\n",
       "\tNetworks.obj.eval.1 & Networks & reciprocity                       & Number of reciprocated ties          & recip     &  &  & eval & FALSE & TRUE & FALSE & ⋯ & 0 & dyadic & TRUE &  & NULL & NULL & oneMode & Group1 & 1 & 12\\\\\n",
       "\tNetworks.obj.eval.2 & Networks & transitive triplets               & Number of transitive triplets        & transTrip &  &  & eval & FALSE & TRUE & FALSE & ⋯ & 0 &        & TRUE &  & NULL & NULL & oneMode & Group1 & 1 & 18\\\\\n",
       "\\end{tabular}\n"
      ],
      "text/markdown": [
       "\n",
       "A summary.sienaEffects: 4 × 31\n",
       "\n",
       "| <!--/--> | name &lt;chr&gt; | effectName &lt;chr&gt; | functionName &lt;chr&gt; | shortName &lt;chr&gt; | interaction1 &lt;chr&gt; | interaction2 &lt;chr&gt; | type &lt;chr&gt; | basicRate &lt;lgl&gt; | include &lt;lgl&gt; | randomEffects &lt;lgl&gt; | ⋯ ⋯ | effect3 &lt;int&gt; | interactionType &lt;chr&gt; | local &lt;lgl&gt; | setting &lt;chr&gt; | effectFn &lt;list&gt; | statisticFn &lt;list&gt; | netType &lt;chr&gt; | groupName &lt;chr&gt; | group &lt;dbl&gt; | effectNumber &lt;int&gt; |\n",
       "|---|---|---|---|---|---|---|---|---|---|---|---|---|---|---|---|---|---|---|---|---|---|\n",
       "| Networks.rate.1 | Networks | constant Networks rate (period 1) | Amount of network change in period 1 | Rate      | <!----> | <!----> | rate |  TRUE | TRUE | FALSE | ⋯ | 0 | <!----> | TRUE | <!----> | NULL | NULL | oneMode | Group1 | 1 |  1 |\n",
       "| Networks.rate.2 | Networks | constant Networks rate (period 2) | Amount of network change in period 2 | Rate      | <!----> | <!----> | rate |  TRUE | TRUE | FALSE | ⋯ | 0 | <!----> | TRUE | <!----> | NULL | NULL | oneMode | Group1 | 1 |  2 |\n",
       "| Networks.obj.eval.1 | Networks | reciprocity                       | Number of reciprocated ties          | recip     | <!----> | <!----> | eval | FALSE | TRUE | FALSE | ⋯ | 0 | dyadic | TRUE | <!----> | NULL | NULL | oneMode | Group1 | 1 | 12 |\n",
       "| Networks.obj.eval.2 | Networks | transitive triplets               | Number of transitive triplets        | transTrip | <!----> | <!----> | eval | FALSE | TRUE | FALSE | ⋯ | 0 | <!----> | TRUE | <!----> | NULL | NULL | oneMode | Group1 | 1 | 18 |\n",
       "\n"
      ],
      "text/plain": [
       "                    name     effectName                       \n",
       "Networks.rate.1     Networks constant Networks rate (period 1)\n",
       "Networks.rate.2     Networks constant Networks rate (period 2)\n",
       "Networks.obj.eval.1 Networks reciprocity                      \n",
       "Networks.obj.eval.2 Networks transitive triplets              \n",
       "                    functionName                         shortName interaction1\n",
       "Networks.rate.1     Amount of network change in period 1 Rate                  \n",
       "Networks.rate.2     Amount of network change in period 2 Rate                  \n",
       "Networks.obj.eval.1 Number of reciprocated ties          recip                 \n",
       "Networks.obj.eval.2 Number of transitive triplets        transTrip             \n",
       "                    interaction2 type basicRate include randomEffects ⋯ effect3\n",
       "Networks.rate.1                  rate  TRUE     TRUE    FALSE         ⋯ 0      \n",
       "Networks.rate.2                  rate  TRUE     TRUE    FALSE         ⋯ 0      \n",
       "Networks.obj.eval.1              eval FALSE     TRUE    FALSE         ⋯ 0      \n",
       "Networks.obj.eval.2              eval FALSE     TRUE    FALSE         ⋯ 0      \n",
       "                    interactionType local setting effectFn statisticFn netType\n",
       "Networks.rate.1                     TRUE          NULL     NULL        oneMode\n",
       "Networks.rate.2                     TRUE          NULL     NULL        oneMode\n",
       "Networks.obj.eval.1 dyadic          TRUE          NULL     NULL        oneMode\n",
       "Networks.obj.eval.2                 TRUE          NULL     NULL        oneMode\n",
       "                    groupName group effectNumber\n",
       "Networks.rate.1     Group1    1      1          \n",
       "Networks.rate.2     Group1    1      2          \n",
       "Networks.obj.eval.1 Group1    1     12          \n",
       "Networks.obj.eval.2 Group1    1     18          "
      ]
     },
     "metadata": {},
     "output_type": "display_data"
    }
   ],
   "source": [
    "summary(myeff)"
   ]
  },
  {
   "cell_type": "code",
   "execution_count": 14,
   "id": "acdc53cc-b5da-4276-9999-23090b1e8ae6",
   "metadata": {},
   "outputs": [
    {
     "name": "stdout",
     "output_type": "stream",
     "text": [
      "If you use this algorithm object, siena07 will create/use an output file Тест симулятора сети.txt .\n"
     ]
    }
   ],
   "source": [
    "myalgorithm <- sienaAlgorithmCreate(projname = 'Тест симулятора сети')\n",
    "ans <- siena07( myalgorithm, data = mydata, effects = myeff, clusterType=\"FORK\", useCluster=TRUE, nbrNodes=12)"
   ]
  },
  {
   "cell_type": "code",
   "execution_count": 15,
   "id": "c556cb46-a588-4767-82e4-51a9e2655a91",
   "metadata": {},
   "outputs": [
    {
     "data": {
      "text/plain": [
       "Estimates, standard errors and convergence t-ratios\n",
       "\n",
       "                                   Estimate   Standard   Convergence \n",
       "                                                Error      t-ratio   \n",
       "\n",
       "Rate parameters: \n",
       "  0.1      Rate parameter period 1 3.9417   ( 0.5551   )             \n",
       "  0.2      Rate parameter period 2 2.1897   ( 0.4283   )             \n",
       "\n",
       "Other parameters: \n",
       "  1.  eval reciprocity             0.3977   ( 0.2866   )   0.0158    \n",
       "  2.  eval transitive triplets     0.0152   ( 0.0835   )   0.0596    \n",
       "\n",
       "Overall maximum convergence ratio:    0.0611 \n",
       "\n",
       "\n",
       "Total of 1673 iteration steps.\n"
      ]
     },
     "metadata": {},
     "output_type": "display_data"
    }
   ],
   "source": [
    "ans"
   ]
  },
  {
   "cell_type": "raw",
   "id": "4715b843-9494-486a-87cd-58badd1744eb",
   "metadata": {},
   "source": [
    "ans <- siena07( myalgorithm, data = mydata, effects = myeff, clusterType=\"FORK\", useCluster=TRUE, nbrNodes=12, prevAns=ans)\n",
    "ans"
   ]
  },
  {
   "cell_type": "markdown",
   "id": "927c6267-6eec-451c-8f7d-b7b6e821d894",
   "metadata": {},
   "source": [
    "Параметры изначальные\n",
    "\n",
    "Необходимо почнимть, что оцениваем $ exp(\\text{парамтер}) $ (Для созданных мной параметров)"
   ]
  },
  {
   "cell_type": "code",
   "execution_count": 17,
   "id": "d7af9997-faee-4073-a4b3-2204b96e5d23",
   "metadata": {},
   "outputs": [
    {
     "data": {
      "text/html": [
       "43.0009700313443"
      ],
      "text/latex": [
       "43.0009700313443"
      ],
      "text/markdown": [
       "43.0009700313443"
      ],
      "text/plain": [
       "[1] 43.00097"
      ]
     },
     "metadata": {},
     "output_type": "display_data"
    },
    {
     "data": {
      "text/html": [
       "3.76122267430759"
      ],
      "text/latex": [
       "3.76122267430759"
      ],
      "text/markdown": [
       "3.76122267430759"
      ],
      "text/plain": [
       "[1] 3.761223"
      ]
     },
     "metadata": {},
     "output_type": "display_data"
    },
    {
     "data": {
      "text/html": [
       "<style>\n",
       ".list-inline {list-style: none; margin:0; padding: 0}\n",
       ".list-inline>li {display: inline-block}\n",
       ".list-inline>li:not(:last-child)::after {content: \"\\00b7\"; padding: 0 .5ex}\n",
       "</style>\n",
       "<ol class=list-inline><li>0.693147180559945</li><li>1.79175946922805</li></ol>\n"
      ],
      "text/latex": [
       "\\begin{enumerate*}\n",
       "\\item 0.693147180559945\n",
       "\\item 1.79175946922805\n",
       "\\end{enumerate*}\n"
      ],
      "text/markdown": [
       "1. 0.693147180559945\n",
       "2. 1.79175946922805\n",
       "\n",
       "\n"
      ],
      "text/plain": [
       "[1] 0.6931472 1.7917595"
      ]
     },
     "metadata": {},
     "output_type": "display_data"
    }
   ],
   "source": [
    "total_Lambda\n",
    "log(total_Lambda)\n",
    "\n",
    "log(beta)\n"
   ]
  },
  {
   "cell_type": "code",
   "execution_count": null,
   "id": "9ca641f1-ce9b-44af-966e-81e113c6d7b2",
   "metadata": {},
   "outputs": [],
   "source": []
  }
 ],
 "metadata": {
  "kernelspec": {
   "display_name": "R",
   "language": "R",
   "name": "ir"
  },
  "language_info": {
   "codemirror_mode": "r",
   "file_extension": ".r",
   "mimetype": "text/x-r-source",
   "name": "R",
   "pygments_lexer": "r",
   "version": "4.3.3"
  }
 },
 "nbformat": 4,
 "nbformat_minor": 5
}
