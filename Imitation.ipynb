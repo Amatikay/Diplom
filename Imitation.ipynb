{
 "cells": [
  {
   "cell_type": "markdown",
   "id": "75288b6f-78c2-4c8e-b1a2-76482400973f",
   "metadata": {},
   "source": [
    "Длинные названия потому, что мне лень писать документацию, а за жизненным циклом обектов следить не умею :)"
   ]
  },
  {
   "cell_type": "code",
   "execution_count": 1,
   "id": "959d1124-01d9-4725-bc73-66bb80c4476e",
   "metadata": {},
   "outputs": [],
   "source": [
    "Generate_Network_t0 <- function(size = 40, sparsity = 0.7) {\n",
    "  network <- matrix(0, nrow=size, ncol=size)\n",
    "  \n",
    "  for (i in 1:size) {\n",
    "    for (j in 1:size) {\n",
    "      if (runif(1) > sparsity) {\n",
    "        network[i, j] <- 1\n",
    "      }\n",
    "    }\n",
    "  }\n",
    "  \n",
    "  return(network)\n",
    "}\n",
    "\n",
    "\n",
    "# Смулирую ТОЛЬКО возникновение сети\n",
    "\n",
    "\n",
    "Network_function_1 <- function(i, Network) { # Зачем тут минишаг? Для ковариат сложнее?\n",
    "  net <- 0\n",
    "  for (j in 1:length(Network[i, ])) {\n",
    "    net <- net + Network[i, j]\n",
    "  }\n",
    "  return(net)\n",
    "}\n",
    "\n",
    "Generate_Possible_Ministep_Matrix_vector <- function(i, Network) {\n",
    "  Networks <- list()\n",
    "  \n",
    "  for (j in 1:length(Network[i, ])) {\n",
    "    if (i != j) {\n",
    "      TMP_Net <- Network\n",
    "      TMP_Net[i, j] <- 1\n",
    "      Networks[[j]] <- TMP_Net    \n",
    "    }\n",
    "  }\n",
    "  return(Networks)\n",
    "}\n",
    "\n",
    "Ministep <- function(Network, i, j) {\n",
    "  Network[i, j] <- 1\n",
    "  \n",
    "  return(Network)\n",
    "}\n",
    "\n",
    "Distribution_actors <- function(i, Network, beta) {\n",
    "  Util_i_j <- 0\n",
    "  Util <- 0\n",
    "  for (j in 1:length(Network[i, ])) {\n",
    "\n",
    "        Util_i_j[j] <- Utility(Network, beta, i, j)\n",
    "\n",
    "        Util_i_h <- 0\n",
    "        for (h in 1:length(Network[i, ])) {\n",
    "          if (j != h) {\n",
    "            Util_i_h <- Util_i_h + Utility(Network, beta, i, h)\n",
    "          }\n",
    "        }\n",
    "        \n",
    "        Util[j] <- Util_i_j[j] / Util_i_h\n",
    "      \n",
    "        Util[i] <- 0\n",
    "\n",
    "  }\n",
    "  return(Util)\n",
    "}\n",
    "\n",
    "\n",
    "Utility <- function(Network, beta, i, j) {\n",
    "  util <- 0\n",
    "  util <- util + (beta * Network_function_1(i, Network)) # Если есть еще функции добавлять через сумму\n",
    "  \n",
    "  return(util)\n",
    "}\n",
    "\n",
    "\n",
    "Simulator <- function(Network0, t = 0, LambdaV, total_Lambda, T, beta) {\n",
    "  Network <- Network0 \n",
    "  while (t < T) {\n",
    "    deltaT <- rexp(1, rate=total_Lambda)\n",
    "    i <- sample(1:length(Network0[1, ]), size=1, prob=(LambdaV / total_Lambda))\n",
    "    j <- sample(1:length(Network0[, 1]), size=1, prob=Distribution_actors(i, Network, beta)) # Тут надо задать распределение\n",
    "    Network[i, j] <- 1\n",
    "    t <- t + deltaT\n",
    "  }\n",
    "  return(Network)\n",
    "}\n"
   ]
  },
  {
   "cell_type": "code",
   "execution_count": 2,
   "id": "87b11939-c1cf-42b7-ab98-ef56f48c9138",
   "metadata": {},
   "outputs": [],
   "source": [
    "size <- 40\n",
    "Network0 <- Generate_Network_t0(size = size)\n",
    "LambdaV <- runif(n = size, min = 0.1, max = 5) \n",
    "total_Lambda <- sum(LambdaV)\n",
    "beta <- .6\n",
    "T <- 2"
   ]
  },
  {
   "cell_type": "code",
   "execution_count": 3,
   "id": "fc03111e-3029-49b5-8bc6-83e0c4147311",
   "metadata": {},
   "outputs": [],
   "source": [
    "write.table(Network0, file = \"Network0.dat\", sep = \" \", row.names = FALSE, col.names = FALSE)"
   ]
  },
  {
   "cell_type": "code",
   "execution_count": 4,
   "id": "d364eafe-4a5d-4988-bb64-b1e83397dccc",
   "metadata": {},
   "outputs": [],
   "source": [
    "Network1 <- Simulator(Network0, t = 0, LambdaV, total_Lambda, T, beta)"
   ]
  },
  {
   "cell_type": "code",
   "execution_count": 5,
   "id": "8506cd06-a8f6-4894-813b-3221b4ab84a8",
   "metadata": {},
   "outputs": [],
   "source": [
    "write.table(Network1, file = \"Network1.dat\", sep = \" \", row.names = FALSE, col.names = FALSE)"
   ]
  },
  {
   "cell_type": "code",
   "execution_count": 6,
   "id": "8c88c480-30c8-456a-8513-6721d28533d1",
   "metadata": {},
   "outputs": [],
   "source": [
    "Network2 <- Simulator(Network1, t = 0, LambdaV, total_Lambda, T, beta)"
   ]
  },
  {
   "cell_type": "code",
   "execution_count": 7,
   "id": "aed440a4-63d3-406c-baa1-443fbb572c04",
   "metadata": {},
   "outputs": [],
   "source": [
    "write.table(Network2, file = \"Network2.dat\", sep = \" \", row.names = FALSE, col.names = FALSE)"
   ]
  },
  {
   "cell_type": "code",
   "execution_count": 8,
   "id": "4630b696-9898-49c2-88d7-9fa6048a702f",
   "metadata": {},
   "outputs": [
    {
     "data": {
      "text/html": [
       "484"
      ],
      "text/latex": [
       "484"
      ],
      "text/markdown": [
       "484"
      ],
      "text/plain": [
       "[1] 484"
      ]
     },
     "metadata": {},
     "output_type": "display_data"
    },
    {
     "data": {
      "text/html": [
       "593"
      ],
      "text/latex": [
       "593"
      ],
      "text/markdown": [
       "593"
      ],
      "text/plain": [
       "[1] 593"
      ]
     },
     "metadata": {},
     "output_type": "display_data"
    },
    {
     "data": {
      "text/html": [
       "685"
      ],
      "text/latex": [
       "685"
      ],
      "text/markdown": [
       "685"
      ],
      "text/plain": [
       "[1] 685"
      ]
     },
     "metadata": {},
     "output_type": "display_data"
    }
   ],
   "source": [
    "sum(Network0)\n",
    "sum(Network1)\n",
    "sum(Network2)"
   ]
  },
  {
   "cell_type": "code",
   "execution_count": null,
   "id": "923e7548-313a-4e48-bee4-016a7bfbf3eb",
   "metadata": {},
   "outputs": [],
   "source": []
  }
 ],
 "metadata": {
  "kernelspec": {
   "display_name": "R",
   "language": "R",
   "name": "ir"
  },
  "language_info": {
   "codemirror_mode": "r",
   "file_extension": ".r",
   "mimetype": "text/x-r-source",
   "name": "R",
   "pygments_lexer": "r",
   "version": "4.3.3"
  }
 },
 "nbformat": 4,
 "nbformat_minor": 5
}
