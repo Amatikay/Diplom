{
 "cells": [
  {
   "cell_type": "markdown",
   "id": "f25cbb81-0657-49b3-ae57-219fe1defd46",
   "metadata": {},
   "source": [
    "# Файл для отладки"
   ]
  },
  {
   "cell_type": "markdown",
   "id": "e5d0abf8-c073-42ff-a0fc-b7b367efab87",
   "metadata": {},
   "source": [
    "![image](../pic/pic1.jpg)\n",
    "![image](../pic/pic2.jpg)"
   ]
  },
  {
   "cell_type": "code",
   "execution_count": 1,
   "id": "5c4e01a9-9824-4982-a11b-4eb0ed8412a7",
   "metadata": {},
   "outputs": [],
   "source": [
    "Generate_Network_t0 <- function(size = 40, sparsity = 0.7) {\n",
    "\tnetwork <- matrix(0, nrow=size, ncol=size)\n",
    "  \n",
    "\tfor (i in 1:size) {\n",
    "\t\tfor (j in 1:size) {\n",
    "\t\t\tif (runif(1) > sparsity) {\n",
    "\t\t\t\tnetwork[i, j] <- 1\n",
    "\t\t\t}\n",
    "\t\t}\n",
    "\t}\n",
    "  \n",
    "\treturn(network)\n",
    "}\n",
    "\n",
    "\n",
    "Network_function_1 <- function(i, Network) { # outdegree (density)\n",
    "\tnet <- sum(Network[i, ])\n",
    "\treturn(net)\n",
    "}\n",
    "\n",
    "\n",
    "Network_function_2 <- function(i, Network) { # recip\n",
    "\tnet <- 0\n",
    "    for(j in 1:length(Network[1,])){\n",
    "        if(i != j){\n",
    "            net <- net + Network[i,j]*Network[j,i]\n",
    "        }\n",
    "    }\n",
    "\treturn(net)\n",
    "}\n",
    "\n",
    "Network_function_3 <- function(i, Network) { # transitive triads (transTrip)\n",
    "\tnet <- 0\n",
    "\tfor (j in 1:length(Network[i, ])) {\n",
    "\t\tfor(h in 1:length(Network[i, ])){\n",
    "\t\t\tif(i!=j & j!=h & i!=h){\n",
    "\t\t\t\tnet <- net + (Network[i,j] * Network[i,h] * Network[h,j]) \n",
    "\t\t\t}\n",
    "\t\t}\n",
    "\t}\n",
    "\treturn(net)\n",
    "}\n",
    "\n",
    "Generate_Possible_Ministep_Matrix_vector <- function(i, Network) {\n",
    "\tNetworks <- list()\n",
    "  \n",
    "\tfor (j in 1:length(Network[i, ])) {\n",
    "\t\tif (i != j) {\n",
    "\t\t\tTMP_Net <- Network\n",
    "\t\t\tTMP_Net[i, j] <- 1\n",
    "\t\t\tNetworks[[j]] <- TMP_Net    \n",
    "\t\t}\n",
    "\t}\n",
    "\treturn(Networks)\n",
    "}\n",
    "\n",
    "Ministep <- function(Network, i, j) {\n",
    "\tNetwork[i, j] <- 1\n",
    "\treturn(Network)\n",
    "}\n",
    "\n",
    "\n",
    "Distribution_actors <- function(i, Network, beta) {\n",
    "\tUtil <- numeric( length(Network[i, ]) )\n",
    "\ttotal_util <- 0\n",
    "  \n",
    "\tfor (h in 1:length(Network[i, ])) {\n",
    "\t\tif (i != h) {\n",
    "\t\t\ttotal_util <- total_util + exp(Utility(Network, beta, i, h))\n",
    "\t\t}\n",
    "\t}\n",
    "  \n",
    "\tUtil_j <- numeric(length(Network[i, ]))\n",
    "  \n",
    "\tfor (j in 1:length(Network[i, ])) {\n",
    "\t\tif (j != i) {\n",
    "\t\t\tUtil_j[j] <- exp(Utility(Network, beta, i, j))\n",
    "\t\t\tUtil[j] <- Util_j[j] / total_util\n",
    "\t\t}\n",
    "        \n",
    "\t}\n",
    "    Util[which(is.na(Util))] <- 0\n",
    "\treturn(Util)\n",
    "}\n",
    "\n",
    "Utility <- function(Network, beta, i, j) {\n",
    "\tutil <- 0\n",
    "    NetIJ <- Generate_Possible_Ministep_Matrix_vector(i, Network)\n",
    "\tutil <- util + (beta[1] * Network_function_2(i, NetIJ[[j]])) + (beta[2] * Network_function_3(i, NetIJ[[j]]))\n",
    "\treturn(util)\n",
    "}\n",
    "\n",
    "Simulator <- function(Network0, t = 0, LambdaV, total_Lambda, T, beta) {\n",
    "\tNetwork <- Network0 \n",
    "\twhile (t < T) {\n",
    "\t\tdeltaT <- rexp(1, rate=total_Lambda)\n",
    "\t\ti <- sample(1:length(Network0[1,]), size=1, prob=(LambdaV / total_Lambda))\n",
    "      \n",
    "\t\tprob_vector <- 0\n",
    "\t\tprob_vector <- Distribution_actors(i, Network, beta)\n",
    "\t\tj <- sample(1:length(Network0[i,j]), size=1, prob=prob_vector)\n",
    "\t\tNetwork[i, j] <- 1\n",
    "\t\tt <- t + deltaT\n",
    "        \n",
    "\n",
    "\t}\n",
    "\treturn(Network)\n",
    "}"
   ]
  },
  {
   "cell_type": "code",
   "execution_count": 2,
   "id": "8af220c0-298c-4d36-8b1d-1c836d06bf8e",
   "metadata": {},
   "outputs": [],
   "source": [
    "size <- 5\n",
    "Network0 <- Generate_Network_t0(size = size, sparsity = .7)\n",
    "# LambdaV <- rexp(n = size)\n",
    "LambdaV <- runif(n = size, min = 0, max = 1)\n",
    "total_Lambda <- sum(LambdaV)\n",
    "beta <- rexp(n = 2)\n",
    "# beta <- c(1.5, 1.8)\n",
    "T <- 2.5"
   ]
  },
  {
   "cell_type": "code",
   "execution_count": 3,
   "id": "af0280a0-765a-40de-8b1b-32dab09449b7",
   "metadata": {},
   "outputs": [
    {
     "data": {
      "text/html": [
       "<table class=\"dataframe\">\n",
       "<caption>A matrix: 5 × 5 of type dbl</caption>\n",
       "<tbody>\n",
       "\t<tr><td>1</td><td>0</td><td>0</td><td>0</td><td>0</td></tr>\n",
       "\t<tr><td>0</td><td>0</td><td>1</td><td>0</td><td>0</td></tr>\n",
       "\t<tr><td>1</td><td>0</td><td>1</td><td>0</td><td>0</td></tr>\n",
       "\t<tr><td>0</td><td>0</td><td>0</td><td>1</td><td>0</td></tr>\n",
       "\t<tr><td>0</td><td>0</td><td>1</td><td>1</td><td>0</td></tr>\n",
       "</tbody>\n",
       "</table>\n"
      ],
      "text/latex": [
       "A matrix: 5 × 5 of type dbl\n",
       "\\begin{tabular}{lllll}\n",
       "\t 1 & 0 & 0 & 0 & 0\\\\\n",
       "\t 0 & 0 & 1 & 0 & 0\\\\\n",
       "\t 1 & 0 & 1 & 0 & 0\\\\\n",
       "\t 0 & 0 & 0 & 1 & 0\\\\\n",
       "\t 0 & 0 & 1 & 1 & 0\\\\\n",
       "\\end{tabular}\n"
      ],
      "text/markdown": [
       "\n",
       "A matrix: 5 × 5 of type dbl\n",
       "\n",
       "| 1 | 0 | 0 | 0 | 0 |\n",
       "| 0 | 0 | 1 | 0 | 0 |\n",
       "| 1 | 0 | 1 | 0 | 0 |\n",
       "| 0 | 0 | 0 | 1 | 0 |\n",
       "| 0 | 0 | 1 | 1 | 0 |\n",
       "\n"
      ],
      "text/plain": [
       "     [,1] [,2] [,3] [,4] [,5]\n",
       "[1,] 1    0    0    0    0   \n",
       "[2,] 0    0    1    0    0   \n",
       "[3,] 1    0    1    0    0   \n",
       "[4,] 0    0    0    1    0   \n",
       "[5,] 0    0    1    1    0   "
      ]
     },
     "metadata": {},
     "output_type": "display_data"
    },
    {
     "data": {
      "text/html": [
       "<style>\n",
       ".list-inline {list-style: none; margin:0; padding: 0}\n",
       ".list-inline>li {display: inline-block}\n",
       ".list-inline>li:not(:last-child)::after {content: \"\\00b7\"; padding: 0 .5ex}\n",
       "</style>\n",
       "<ol class=list-inline><li>0.125474207801744</li><li>0.660387380747125</li><li>0.382604103069752</li><li>0.729640506906435</li><li>0.944343368988484</li></ol>\n"
      ],
      "text/latex": [
       "\\begin{enumerate*}\n",
       "\\item 0.125474207801744\n",
       "\\item 0.660387380747125\n",
       "\\item 0.382604103069752\n",
       "\\item 0.729640506906435\n",
       "\\item 0.944343368988484\n",
       "\\end{enumerate*}\n"
      ],
      "text/markdown": [
       "1. 0.125474207801744\n",
       "2. 0.660387380747125\n",
       "3. 0.382604103069752\n",
       "4. 0.729640506906435\n",
       "5. 0.944343368988484\n",
       "\n",
       "\n"
      ],
      "text/plain": [
       "[1] 0.1254742 0.6603874 0.3826041 0.7296405 0.9443434"
      ]
     },
     "metadata": {},
     "output_type": "display_data"
    },
    {
     "data": {
      "text/html": [
       "2.84244956751354"
      ],
      "text/latex": [
       "2.84244956751354"
      ],
      "text/markdown": [
       "2.84244956751354"
      ],
      "text/plain": [
       "[1] 2.84245"
      ]
     },
     "metadata": {},
     "output_type": "display_data"
    },
    {
     "data": {
      "text/html": [
       "<style>\n",
       ".list-inline {list-style: none; margin:0; padding: 0}\n",
       ".list-inline>li {display: inline-block}\n",
       ".list-inline>li:not(:last-child)::after {content: \"\\00b7\"; padding: 0 .5ex}\n",
       "</style>\n",
       "<ol class=list-inline><li>1.2691526133147</li><li>0.224243944045156</li></ol>\n"
      ],
      "text/latex": [
       "\\begin{enumerate*}\n",
       "\\item 1.2691526133147\n",
       "\\item 0.224243944045156\n",
       "\\end{enumerate*}\n"
      ],
      "text/markdown": [
       "1. 1.2691526133147\n",
       "2. 0.224243944045156\n",
       "\n",
       "\n"
      ],
      "text/plain": [
       "[1] 1.2691526 0.2242439"
      ]
     },
     "metadata": {},
     "output_type": "display_data"
    },
    {
     "data": {
      "text/html": [
       "<style>\n",
       ".list-inline {list-style: none; margin:0; padding: 0}\n",
       ".list-inline>li {display: inline-block}\n",
       ".list-inline>li:not(:last-child)::after {content: \"\\00b7\"; padding: 0 .5ex}\n",
       "</style>\n",
       "<ol class=list-inline><li>0.0441429847114241</li><li>0.232330377395158</li><li>0.134603655749094</li><li>0.256694266538806</li><li>0.332228715605518</li></ol>\n"
      ],
      "text/latex": [
       "\\begin{enumerate*}\n",
       "\\item 0.0441429847114241\n",
       "\\item 0.232330377395158\n",
       "\\item 0.134603655749094\n",
       "\\item 0.256694266538806\n",
       "\\item 0.332228715605518\n",
       "\\end{enumerate*}\n"
      ],
      "text/markdown": [
       "1. 0.0441429847114241\n",
       "2. 0.232330377395158\n",
       "3. 0.134603655749094\n",
       "4. 0.256694266538806\n",
       "5. 0.332228715605518\n",
       "\n",
       "\n"
      ],
      "text/plain": [
       "[1] 0.04414298 0.23233038 0.13460366 0.25669427 0.33222872"
      ]
     },
     "metadata": {},
     "output_type": "display_data"
    }
   ],
   "source": [
    "Network0\n",
    "\n",
    "LambdaV\n",
    "\n",
    "total_Lambda\n",
    "\n",
    "beta\n",
    "\n",
    "LambdaV / total_Lambda\n",
    "\n"
   ]
  },
  {
   "cell_type": "markdown",
   "id": "97d586dd-5b5c-4d88-b727-4dc88194f4fe",
   "metadata": {},
   "source": [
    "# Эффекты верно работают"
   ]
  },
  {
   "cell_type": "code",
   "execution_count": 4,
   "id": "7caca740-bfcd-46f3-bf2f-d1b3d67dcfcf",
   "metadata": {},
   "outputs": [
    {
     "name": "stdout",
     "output_type": "stream",
     "text": [
      "[1] 1\n",
      "[1] 1\n",
      "[1] 2\n",
      "[1] 1\n",
      "[1] 2\n"
     ]
    }
   ],
   "source": [
    "for(i in 1:size){\n",
    "    print(Network_function_1(i = i,Network = Network0))\n",
    "}"
   ]
  },
  {
   "cell_type": "code",
   "execution_count": 5,
   "id": "03cd482d-37b1-496c-8a8b-c518136e76b9",
   "metadata": {},
   "outputs": [
    {
     "name": "stdout",
     "output_type": "stream",
     "text": [
      "[1] 0\n",
      "[1] 0\n",
      "[1] 0\n",
      "[1] 0\n",
      "[1] 0\n"
     ]
    }
   ],
   "source": [
    "for(i in 1:size){\n",
    "    print(Network_function_2(i = i,Network = Network0))\n",
    "}"
   ]
  },
  {
   "cell_type": "code",
   "execution_count": 6,
   "id": "993ecec6-cf72-4b5c-bbd5-c993763bc3e4",
   "metadata": {},
   "outputs": [
    {
     "name": "stdout",
     "output_type": "stream",
     "text": [
      "[1] 0\n",
      "[1] 0\n",
      "[1] 0\n",
      "[1] 0\n",
      "[1] 0\n"
     ]
    }
   ],
   "source": [
    "for(i in 1:size){\n",
    "    print(Network_function_3(i = i,Network = Network0))\n",
    "}"
   ]
  },
  {
   "cell_type": "markdown",
   "id": "a26c5c4b-646b-4245-bac1-ca8b42eaaff8",
   "metadata": {},
   "source": [
    "# Распределения"
   ]
  },
  {
   "cell_type": "code",
   "execution_count": 7,
   "id": "4feddbd2-ceca-42f4-baa5-0baa29694cb8",
   "metadata": {},
   "outputs": [
    {
     "name": "stdout",
     "output_type": "stream",
     "text": [
      "[1] 0.0000000 0.1524893 0.5425320 0.1524893 0.1524893\n",
      "[1] 1\n",
      "[1] 0.2779136 0.0000000 0.2220864 0.2220864 0.2779136\n",
      "[1] 1\n",
      "[1] 0.1097012 0.3902988 0.0000000 0.1097012 0.3902988\n",
      "[1] 1\n",
      "[1] 0.1524893 0.1524893 0.1524893 0.0000000 0.5425320\n",
      "[1] 1\n",
      "[1] 0.2779136 0.2779136 0.2220864 0.2220864 0.0000000\n",
      "[1] 1\n"
     ]
    }
   ],
   "source": [
    "for (i in 1:size){\n",
    "    print(Distribution_actors(i, Network0, beta))\n",
    "    print(sum(Distribution_actors(i, Network0, beta)))\n",
    "}\n"
   ]
  },
  {
   "cell_type": "code",
   "execution_count": 10,
   "id": "ab026c47-8d67-438b-a25f-b3d2b629a773",
   "metadata": {},
   "outputs": [
    {
     "data": {
      "text/html": [
       "<table class=\"dataframe\">\n",
       "<caption>A matrix: 5 × 5 of type dbl</caption>\n",
       "<tbody>\n",
       "\t<tr><td>0.0000000</td><td>0.0000000</td><td>1.269153</td><td>0</td><td>0.0000000</td></tr>\n",
       "\t<tr><td>0.2242439</td><td>0.0000000</td><td>0.000000</td><td>0</td><td>0.2242439</td></tr>\n",
       "\t<tr><td>0.0000000</td><td>1.2691526</td><td>0.000000</td><td>0</td><td>1.2691526</td></tr>\n",
       "\t<tr><td>0.0000000</td><td>0.0000000</td><td>0.000000</td><td>0</td><td>1.2691526</td></tr>\n",
       "\t<tr><td>0.2242439</td><td>0.2242439</td><td>0.000000</td><td>0</td><td>0.0000000</td></tr>\n",
       "</tbody>\n",
       "</table>\n"
      ],
      "text/latex": [
       "A matrix: 5 × 5 of type dbl\n",
       "\\begin{tabular}{lllll}\n",
       "\t 0.0000000 & 0.0000000 & 1.269153 & 0 & 0.0000000\\\\\n",
       "\t 0.2242439 & 0.0000000 & 0.000000 & 0 & 0.2242439\\\\\n",
       "\t 0.0000000 & 1.2691526 & 0.000000 & 0 & 1.2691526\\\\\n",
       "\t 0.0000000 & 0.0000000 & 0.000000 & 0 & 1.2691526\\\\\n",
       "\t 0.2242439 & 0.2242439 & 0.000000 & 0 & 0.0000000\\\\\n",
       "\\end{tabular}\n"
      ],
      "text/markdown": [
       "\n",
       "A matrix: 5 × 5 of type dbl\n",
       "\n",
       "| 0.0000000 | 0.0000000 | 1.269153 | 0 | 0.0000000 |\n",
       "| 0.2242439 | 0.0000000 | 0.000000 | 0 | 0.2242439 |\n",
       "| 0.0000000 | 1.2691526 | 0.000000 | 0 | 1.2691526 |\n",
       "| 0.0000000 | 0.0000000 | 0.000000 | 0 | 1.2691526 |\n",
       "| 0.2242439 | 0.2242439 | 0.000000 | 0 | 0.0000000 |\n",
       "\n"
      ],
      "text/plain": [
       "     [,1]      [,2]      [,3]     [,4] [,5]     \n",
       "[1,] 0.0000000 0.0000000 1.269153 0    0.0000000\n",
       "[2,] 0.2242439 0.0000000 0.000000 0    0.2242439\n",
       "[3,] 0.0000000 1.2691526 0.000000 0    1.2691526\n",
       "[4,] 0.0000000 0.0000000 0.000000 0    1.2691526\n",
       "[5,] 0.2242439 0.2242439 0.000000 0    0.0000000"
      ]
     },
     "metadata": {},
     "output_type": "display_data"
    }
   ],
   "source": [
    "U <- matrix(ncol = size, nrow = size, data = 0)\n",
    "for(i in 1:size){\n",
    "    for(j in 1:size){\n",
    "        if(i!= j){\n",
    "            U[i,j] <- Utility(Network0, beta, i,j)    \n",
    "        }\n",
    "        else {U[i,j] <- 0}\n",
    "        }\n",
    "    }\n",
    "U"
   ]
  },
  {
   "cell_type": "code",
   "execution_count": null,
   "id": "ede6ffec-476f-492e-989f-5faeb2bad274",
   "metadata": {},
   "outputs": [],
   "source": []
  }
 ],
 "metadata": {
  "kernelspec": {
   "display_name": "R",
   "language": "R",
   "name": "ir"
  },
  "language_info": {
   "codemirror_mode": "r",
   "file_extension": ".r",
   "mimetype": "text/x-r-source",
   "name": "R",
   "pygments_lexer": "r",
   "version": "4.3.3"
  }
 },
 "nbformat": 4,
 "nbformat_minor": 5
}
